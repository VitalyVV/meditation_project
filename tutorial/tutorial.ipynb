{
 "cells": [
  {
   "cell_type": "markdown",
   "metadata": {},
   "source": [
    "<h2></h2>\n",
    "<p></p>\n",
    "<h1>Analysing BCI data</h1>\n",
    "<p>\n",
    "This tutorial will give some explanations of BCI data analysis. We will do it with using python mne library, but in other languages and libraries should me analogs. Some actual code you can find <a href=\"https://github.com/VitalyVV/meditation_project/blob/master/Untitled.ipynb\">here</a>.\n",
    "</p>\n",
    "<h2>Why we need to analyse BCI data?</h2>\n",
    "<p>The success of the experiment lies not only in the correct formulation of the experiment itself, but also in the correct analysis of the data received from BCI, so we should make proper analysis of it..</p>\n",
    "<h2>Steps of analysis:</h2>\n",
    "<ol>\n",
    "    <li>\n",
    "        <p>First of all, we should collect and load our data. If the experiment was carried out correctly and we have proper data obtained from the BCi, we need to bring data to a certain format (if this was not done automatically or if the data was taken from several sources). After that we have to upload them for further processing.\n",
    "        </p>\n",
    "    </li>\n",
    "    <li>\n",
    "        <p>After loading data we need to make preprocessing: cut unneeded parts and filter data. | Some information obtained from the BCI is often redundant, that is, they have extra parts (for example, sample indexes, accel data, time stamps or aux data). If this information is not needed for analysis, it is worth cutting it out, because extra data for analysis entail additional error and resource costs. | Also, when working with the BCI, it is necessary to take into account data contamination: it may be external stimuli such as the electrical network or information that interferes with research such as some body movements. This data must be filtered, because otherwise the data will carry a lot of interference and the error will be high.\n",
    "        </p>\n",
    "    </li>\n",
    "    <li>\n",
    "        <p>After preprocessing we should format our data in correspondence with functions, that we will use. | When working with functions and libraries, you should pay attention to the format of input and output data, because for most of the functions data should be strictly formatted.\n",
    "        </p>\n",
    "    </li>\n",
    "    <li>\n",
    "        <p>Then we preprocessed and formatted our data, we should develop some interpretation of this data. | The data received from BCI itself does not carry the meaning, if not interpreted. You need to come up with ideas on how to get something worthwhile from the data. The conclusion of the study is built on the basis of interpretation. This step should be treated very carefully.\n",
    "        </p>\n",
    "    </li>\n",
    "    <li>\n",
    "        <p>We also can make some visualisations. | Some information is easier to perceive and analyze visually. So you can see what to look for during data interpretation. This step can be carried out both before and after the interpretation of the data.\n",
    "        </p>\n",
    "    </li>\n",
    "\n",
    "</ol>\n",
    "<h2>Why it is enough?</h2>\n",
    "<p>Performing the above steps is sufficient for data analysis. We got rid of the artifacts in the record obtained from the interface and filtered the data in a certain range, thereby obtaining pure processed data suitable for analysis. Therefore, the interpretation and visualization, if they are designed correctly, will give us with high probability useful data with which you can work in the study.</p>\n",
    "<h2>More details with examples</h2>"
   ]
  },
  {
   "cell_type": "markdown",
   "metadata": {},
   "source": [
    "First of all we need to import libraries:"
   ]
  },
  {
   "cell_type": "code",
   "execution_count": 1,
   "metadata": {},
   "outputs": [],
   "source": [
    "import numpy as np\n",
    "import mne\n",
    "from pathlib import Path\n",
    "from mne.preprocessing import ICA\n",
    "import matplotlib.pyplot as plt\n",
    "import pandas as pd\n",
    "from mne.filter import filter_data\n",
    "from scipy import spatial\n",
    "from sklearn.preprocessing import normalize\n",
    "%matplotlib inline"
   ]
  },
  {
   "cell_type": "markdown",
   "metadata": {},
   "source": [
    "<h3>Collecting and Loading</h3>\n",
    "<p>If you have prepaired formatted data, you can skip step of preformatting.</p>\n",
    "<p>It is often better to have data in one format, so working with it will be much easier. In our study file format is following:</p>"
   ]
  },
  {
   "cell_type": "code",
   "execution_count": 2,
   "metadata": {},
   "outputs": [
    {
     "name": "stdout",
     "output_type": "stream",
     "text": [
      "%OpenBCI Raw EEG Data\n",
      "%Number of channels = 8\n",
      "%Sample Rate = 250.0 Hz\n",
      "%First Column = SampleIndex\n",
      "%Last Column = Timestamp \n",
      "%Other Columns = EEG data in microvolts followed by Accel Data (in G) interleaved with Aux Data\n",
      "0, 4089.94, 4063.03, 3586.63, -3940.90, 4355.68, 4111.45, 4233.67, 4310.89, -0.026, 0.112, -1.024, 13:13:15.083, 1554631995083\n",
      "1, 4069.87, 4053.58, 3567.87, -3945.02, 4332.66, 4087.55, 4208.34, 4286.33, 0.000, 0.000, 0.000, 13:13:15.084, 1554631995084\n",
      "2, 4029.30, 4028.50, 3528.63, -3947.45, 4290.62, 4045.89, 4164.64, 4243.61, 0.000, 0.000, 0.000, 13:13:15.084, 1554631995084\n",
      "3, 4000.36, 4022.67, 3501.83, -3947.70, 4258.36, 4013.46, 4130.54, 4210.38, 0.000, 0.000, 0.000, 13:13:15.084, 1554631995084\n"
     ]
    }
   ],
   "source": [
    "filename=\"samples/example_data.txt\"\n",
    "file = open(filename, \"r\").readlines()\n",
    "for line in file:\n",
    "    print(line[:-1])\n",
    "    if line[0]=='3':\n",
    "        break\n"
   ]
  },
  {
   "cell_type": "markdown",
   "metadata": {},
   "source": [
    "<p>Here strokes starting from \"%\" are comments which describe strokes of data. After comments are placed all data received from BCI in format specified in comments.\n",
    "</p>\n",
    "<p>In our study we have some problem with EEG data, because it is given to us in microvolts, but mne library works only with volts. That's why we need to convert units:</p>"
   ]
  },
  {
   "cell_type": "code",
   "execution_count": 3,
   "metadata": {},
   "outputs": [],
   "source": [
    "def microvolts_to_volts(value):\n",
    "    \"\"\"\n",
    "    Since openBCI writes data into micro volts and mne works with volts we\n",
    "    will need to convert the data later.\n",
    "    :param value: single micro volts value\n",
    "    :return: same value in volts\n",
    "    \"\"\"\n",
    "    return float(value) / 1000\n",
    "\n",
    "# Converter of BCI file to valuable data\n",
    "converter = {i: (microvolts_to_volts if i < 12 else lambda x: str(x).split(\".\")[1][:-1])\n",
    "    for i in range(0, 13)}"
   ]
  },
  {
   "cell_type": "markdown",
   "metadata": {},
   "source": [
    "<p>After formatting all data we can load data and specify all parameters. In our study we work with <a href=\"https://martinos.org/mne/dev/generated/mne.io.RawArray.html\">mne library RawArray</a>. To build correct and readable data with it we should specify channel's names, channel's types, sample frequency and montage standart.</p>\n",
    "<p>In our study we have 8 EEG channels in standart 10-20: fp2, fp1, f4, f3, c4, c3, o2, o1. And our sample rate is 250 Hz. We create instance of info (from mne library) and give all this data into it. Note that order of channels is referring to channel number on Cyton BCI board.</p>"
   ]
  },
  {
   "cell_type": "code",
   "execution_count": 4,
   "metadata": {},
   "outputs": [],
   "source": [
    "ch_names = {\"fp2\":1, \"fp1\":2, \"f4\":3, \"f3\":4, \"c4\":5, \"c3\":6, \"o2\":7, \"o1\":8}\n",
    "\n",
    "info = mne.create_info(\n",
    "        ch_names=list(ch_names.keys()),\n",
    "        ch_types=['eeg' for i in range(0, len(ch_names))],\n",
    "        sfreq=250,\n",
    "        montage='standard_1020'\n",
    "    )"
   ]
  },
  {
   "cell_type": "markdown",
   "metadata": {},
   "source": [
    "<p>Now we should actually load our data. Often loading functions also have some loading options, like specifying format of data, comments and etc. In our study we skip first and last 10000 rows (40 seconds) of data, because these parts are testing data, which has no meaning. In our format comments start from \"%\" and all data is separated by \",\". So we wrote this in function attributes. Was used <a href=\"https://docs.scipy.org/doc/numpy/reference/generated/numpy.loadtxt.html\">numpy function loadtxt.</a></p>"
   ]
  },
  {
   "cell_type": "code",
   "execution_count": 5,
   "metadata": {},
   "outputs": [],
   "source": [
    "skiprows = 10000\n",
    "max_rows = 50000\n",
    "raw_data = np.loadtxt(filename, comments=\"%\", delimiter=\",\", converters=converter, skiprows=skiprows, max_rows=max_rows).T"
   ]
  },
  {
   "cell_type": "markdown",
   "metadata": {},
   "source": [
    "After loading raw data looks like N-dimensional array:"
   ]
  },
  {
   "cell_type": "code",
   "execution_count": 6,
   "metadata": {},
   "outputs": [
    {
     "name": "stdout",
     "output_type": "stream",
     "text": [
      "(14, 50000)\n"
     ]
    }
   ],
   "source": [
    "print(raw_data.shape)"
   ]
  },
  {
   "cell_type": "markdown",
   "metadata": {},
   "source": [
    "We have 14 columns of data and many rows. We had the same picture in example_data.txt file, so we assume, that loading was completed correctly."
   ]
  },
  {
   "cell_type": "markdown",
   "metadata": {},
   "source": [
    "<h3>Preprocessing</h3>"
   ]
  },
  {
   "cell_type": "markdown",
   "metadata": {},
   "source": [
    "<p>In preprocessing step we should make filtering of our data and cut everything unneeded. At first it is better to cut data, because filtering is resource-consuming process and we should cut data beforehand. In our study we need only data from our channels, so we don't need order numbers, accel and aux data:</p>"
   ]
  },
  {
   "cell_type": "code",
   "execution_count": 7,
   "metadata": {},
   "outputs": [],
   "source": [
    "cut_data = raw_data[list(ch_names.values())]"
   ]
  },
  {
   "cell_type": "markdown",
   "metadata": {},
   "source": [
    "After cutting sizes of our array should lessen:"
   ]
  },
  {
   "cell_type": "code",
   "execution_count": 8,
   "metadata": {},
   "outputs": [
    {
     "name": "stdout",
     "output_type": "stream",
     "text": [
      "(8, 50000)\n"
     ]
    }
   ],
   "source": [
    "print(cut_data.shape)"
   ]
  },
  {
   "cell_type": "markdown",
   "metadata": {},
   "source": [
    "<p>Now we have only 8 needed channels, so cutting was done correctly.</p>\n",
    "<p>After that we can filter data. We may have to complete complicated filtering, like cutting off artifacts. It can be done via fourier (or wavelet) transform. But in our study we decided to only cut frequencies in range [2:50] Hz, because too high and low frequencies are not related to our study. We made it through mne library, using <a href=\"https://martinos.org/mne/dev/generated/mne.filter.filter_data.html\">filter_data function</a>:"
   ]
  },
  {
   "cell_type": "code",
   "execution_count": 9,
   "metadata": {},
   "outputs": [
    {
     "name": "stdout",
     "output_type": "stream",
     "text": [
      "Setting up band-pass filter from 2 - 50 Hz\n",
      "\n",
      "FIR filter parameters\n",
      "---------------------\n",
      "Designing a one-pass, zero-phase, non-causal bandpass filter:\n",
      "- Windowed time-domain design (firwin) method\n",
      "- Hamming window with 0.0194 passband ripple and 53 dB stopband attenuation\n",
      "- Lower passband edge: 2.00\n",
      "- Lower transition bandwidth: 2.00 Hz (-6 dB cutoff frequency: 1.00 Hz)\n",
      "- Upper passband edge: 50.00 Hz\n",
      "- Upper transition bandwidth: 12.50 Hz (-6 dB cutoff frequency: 56.25 Hz)\n",
      "- Filter length: 413 samples (1.652 sec)\n",
      "\n"
     ]
    }
   ],
   "source": [
    "filtered_data = filter_data(cut_data, 250, l_freq=2, h_freq=50)"
   ]
  },
  {
   "cell_type": "markdown",
   "metadata": {},
   "source": [
    "After filtering sizes of our array should remain the same, but data inside of array cells should differ:"
   ]
  },
  {
   "cell_type": "code",
   "execution_count": 10,
   "metadata": {},
   "outputs": [
    {
     "name": "stdout",
     "output_type": "stream",
     "text": [
      "(8, 50000)\n",
      "Cut data cells:\n",
      "[[ 9.73776  9.84185 10.03079 ...  9.2745   9.44551  9.50097]\n",
      " [ 7.27424  7.51875  7.64488 ...  4.51259  4.76971  4.77494]\n",
      " [-8.29572 -8.20901 -7.9511  ... -8.77404 -8.62556 -8.56076]\n",
      " ...\n",
      " [ 6.14706  6.21966  6.5297  ...  6.22357  6.3797   6.45241]\n",
      " [10.7243  10.81261 11.12755 ... 10.71992 10.86782 10.94453]\n",
      " [12.04059 12.10456 12.40573 ... 11.8688  12.01498 12.0899 ]]\n",
      "Filtered data cells:\n",
      "[[ 1.80411242e-15  2.13239164e-01  2.07606744e-01 ... -1.11889385e-01\n",
      "  -1.83657081e-01  2.99760217e-15]\n",
      " [ 1.27675648e-15  3.16548831e-01  2.03873409e-01 ... -1.64799629e-01\n",
      "  -1.73151601e-01  1.16226473e-15]\n",
      " [-2.73392420e-15  2.33705337e-01  2.53842719e-01 ... -9.77990322e-02\n",
      "  -1.84824468e-01 -1.02695630e-15]\n",
      " ...\n",
      " [ 8.81239526e-16  2.41092517e-01  3.00518589e-01 ... -9.74842748e-02\n",
      "  -2.01720813e-01  1.15879528e-15]\n",
      " [ 3.01147995e-15  2.55637525e-01  3.20804728e-01 ... -9.02645693e-02\n",
      "  -2.06552576e-01  1.96370697e-15]\n",
      " [ 1.22124533e-15  2.30100636e-01  2.84925640e-01 ... -9.27449878e-02\n",
      "  -1.98916193e-01  6.00214323e-15]]\n"
     ]
    }
   ],
   "source": [
    "print(filtered_data.shape)\n",
    "print(\"Cut data cells:\")\n",
    "print(cut_data)\n",
    "print(\"Filtered data cells:\")\n",
    "print(filtered_data)"
   ]
  },
  {
   "cell_type": "markdown",
   "metadata": {},
   "source": [
    "We can see, that size of array remained the same, and data changed, so we assume, that filtering was completed correctly."
   ]
  },
  {
   "cell_type": "markdown",
   "metadata": {},
   "source": [
    "<h3>Formatting</h3>"
   ]
  },
  {
   "cell_type": "markdown",
   "metadata": {},
   "source": [
    "<p>In formatting step we should prepare our preprocessed data to further processing. In simple words, we should match constraints of functions we would use later. In our study we work with ICA plotting and vectorizations, so firstly we need to create mne object from our data and info created before:</p>"
   ]
  },
  {
   "cell_type": "code",
   "execution_count": 11,
   "metadata": {},
   "outputs": [
    {
     "name": "stdout",
     "output_type": "stream",
     "text": [
      "Creating RawArray with float64 data, n_channels=8, n_times=50000\n",
      "    Range : 0 ... 49999 =      0.000 ...   199.996 secs\n",
      "Ready.\n"
     ]
    }
   ],
   "source": [
    "mne_data = mne.io.RawArray(filtered_data, info)"
   ]
  },
  {
   "cell_type": "markdown",
   "metadata": {},
   "source": [
    "<p>After matching data into mne object we need to cut our data into epochs, becasuse it will help us in further processing. Importance of cutting data depends on your goal, but it is commonly used for //TODO uses.</p>"
   ]
  },
  {
   "cell_type": "code",
   "execution_count": 12,
   "metadata": {},
   "outputs": [
    {
     "name": "stdout",
     "output_type": "stream",
     "text": [
      "200 matching events found\n",
      "Applying baseline correction (mode: mean)\n",
      "Not setting metadata\n",
      "0 projection items activated\n",
      "Loading data for 200 events and 176 original time points ...\n",
      "1 bad epochs dropped\n"
     ]
    }
   ],
   "source": [
    "def create_epochs(raw_data, duration=1):\n",
    "    \"\"\"\n",
    "    Chops the RawArray onto Epochs given the time duration of every epoch\n",
    "    :param raw_data: mne.io.RawArray instance\n",
    "    :param duration: seconds for copping\n",
    "    :return: mne Epochs class\n",
    "    \"\"\"\n",
    "    events = mne.make_fixed_length_events(raw_data, duration=duration)\n",
    "    epochs = mne.Epochs(raw_data, events, preload=True)\n",
    "    return epochs\n",
    "\n",
    "data_series = create_epochs(mne_data)"
   ]
  },
  {
   "cell_type": "markdown",
   "metadata": {},
   "source": [
    "Now size of our N-dimensional array changed:"
   ]
  },
  {
   "cell_type": "code",
   "execution_count": 13,
   "metadata": {},
   "outputs": [
    {
     "name": "stdout",
     "output_type": "stream",
     "text": [
      "(199, 8, 176)\n"
     ]
    }
   ],
   "source": [
    "print(data_series.get_data().shape)"
   ]
  },
  {
   "cell_type": "markdown",
   "metadata": {},
   "source": [
    "It became 3D array.\n",
    "<p>After that we can apply ICA preprocessing:</p>"
   ]
  },
  {
   "cell_type": "code",
   "execution_count": 14,
   "metadata": {},
   "outputs": [
    {
     "name": "stdout",
     "output_type": "stream",
     "text": [
      "Fitting ICA to data using 8 channels (please be patient, this may take a while)\n",
      "Inferring max_pca_components from picks\n",
      "Using all PCA components: 8\n",
      "Fitting ICA took 13.5s.\n",
      "Transforming to ICA space (8 components)\n",
      "Zeroing out 0 ICA components\n"
     ]
    }
   ],
   "source": [
    "ica = ICA()\n",
    "ica.fit(data_series)\n",
    "ica_data = ica.apply(data_series)"
   ]
  },
  {
   "cell_type": "markdown",
   "metadata": {},
   "source": [
    "<h3>Visualisation</h3>"
   ]
  },
  {
   "cell_type": "markdown",
   "metadata": {},
   "source": [
    "In visualization step we should visualise our data. We will make it using ICA:"
   ]
  },
  {
   "cell_type": "code",
   "execution_count": 15,
   "metadata": {},
   "outputs": [
    {
     "data": {
      "image/png": "[encoded data removed]",
      "text/plain": [
       "<Figure size 540x288 with 10 Axes>"
      ]
     },
     "metadata": {},
     "output_type": "display_data"
    },
    {
     "data": {
      "text/plain": [
       "[<Figure size 540x288 with 10 Axes>]"
      ]
     },
     "execution_count": 15,
     "metadata": {},
     "output_type": "execute_result"
    }
   ],
   "source": [
    "ica.plot_components()"
   ]
  },
  {
   "cell_type": "markdown",
   "metadata": {},
   "source": [
    "We will have visual representation of every electrod's area, there red - is dinamic activity and blue is blue activity."
   ]
  },
  {
   "cell_type": "markdown",
   "metadata": {},
   "source": [
    "<h3>Interpretation</h3>"
   ]
  },
  {
   "cell_type": "markdown",
   "metadata": {},
   "source": [
    "In interpretation step you should implement analusis of data. In our study we decided to interpret data using vectorization.\n",
    "Firstly we need to define our eeg bands and channels, also we need to prepare our data:"
   ]
  },
  {
   "cell_type": "code",
   "execution_count": 16,
   "metadata": {},
   "outputs": [],
   "source": [
    "# Define EEG bands\n",
    "eeg_bands = {'Delta': (0, 4),\n",
    "             'Theta': (4, 8),\n",
    "             'Alpha': (8, 12),\n",
    "             'Beta': (12, 30),\n",
    "             'Gamma': (30, 45)}\n",
    "ch_names = {\"fp2\":0, \"fp1\":1, \"f4\":2, \"f3\":3, \"c4\":4, \"c3\":5, \"o2\":6, \"o1\":7}\n",
    "n_channels = 8\n",
    "SAMPLE_FREQ = 250\n",
    "# Prepare data before vectorization\n",
    "vector = []\n",
    "prepared_data = ica_data.get_data()\n",
    "analysis_data = np.zeros( (prepared_data.shape[0], prepared_data.shape[1]//2, prepared_data.shape[2]) )"
   ]
  },
  {
   "cell_type": "markdown",
   "metadata": {},
   "source": [
    "Now we can actually apply our vectorization: we would evaluate difference in signal amplitudes with small difference in time."
   ]
  },
  {
   "cell_type": "code",
   "execution_count": 17,
   "metadata": {},
   "outputs": [],
   "source": [
    "i = 0\n",
    "for sample_epoch in prepared_data:\n",
    "    analysis_data[i][0] = (sample_epoch[1] - sample_epoch[0]) / (sample_epoch[1] + sample_epoch[0])\n",
    "    analysis_data[i][1] = (sample_epoch[3] - sample_epoch[2]) / (sample_epoch[3] + sample_epoch[2])\n",
    "    analysis_data[i][2] = (sample_epoch[5] - sample_epoch[4]) / (sample_epoch[5] + sample_epoch[4])\n",
    "    analysis_data[i][3] = (sample_epoch[7] - sample_epoch[6]) / (sample_epoch[7] + sample_epoch[6])\n",
    "    i+=1\n",
    "    \n",
    "for epoch in analysis_data:\n",
    "\n",
    " # Get real amplitudes of FFT (only in postive frequencies)\n",
    "    fft_vals = np.absolute(np.fft.rfft(epoch.T))\n",
    "\n",
    "    # Get frequencies for amplitudes in Hz\n",
    "    fft_freq = np.fft.rfftfreq(len(epoch.T), 1.0/SAMPLE_FREQ)\n",
    "    eeg_band_fft = dict()\n",
    "\n",
    "    for band in eeg_bands:\n",
    "        freq_ix = np.where((fft_freq >= eeg_bands[band][0]) & \n",
    "                           (fft_freq <= eeg_bands[band][1]))[0]\n",
    "        eeg_band_fft[band] = np.mean(fft_vals[freq_ix])\n",
    "\n",
    "    vector.append(eeg_band_fft['Alpha'] / eeg_band_fft['Beta'])\n",
    "\n",
    "vector = np.array(vector)"
   ]
  },
  {
   "cell_type": "markdown",
   "metadata": {},
   "source": [
    "In analysis often better to work with normalized vector, so let's normalize it:"
   ]
  },
  {
   "cell_type": "code",
   "execution_count": 18,
   "metadata": {},
   "outputs": [],
   "source": [
    "vector = normalize(vector[:,np.newaxis], axis=0).ravel()"
   ]
  },
  {
   "cell_type": "markdown",
   "metadata": {},
   "source": [
    "Before next step let's prepare some functions and files, because we have to use several files:"
   ]
  },
  {
   "cell_type": "code",
   "execution_count": 19,
   "metadata": {},
   "outputs": [],
   "source": [
    "def funct(filename, rows):\n",
    "    skiprows=10000\n",
    "    ch_names = {\"fp2\":1, \"fp1\":2, \"f4\":3, \"f3\":4, \"c4\":5, \"c3\":6, \"o2\":7, \"o1\":8}\n",
    "    data = np.loadtxt(filename, comments=\"%\", delimiter=\",\", converters=converter, skiprows=skiprows, max_rows=rows).T\n",
    "    data = data[list(ch_names.values())]\n",
    "    data = filter_data(data, 250, l_freq=2, h_freq=50)\n",
    "    data = mne.io.RawArray(data, info)\n",
    "    data_series = create_epochs(data)\n",
    "    ica = ICA()\n",
    "    ica.fit(data_series)\n",
    "    ica_data = ica.apply(data_series)\n",
    "    eeg_bands = {'Delta': (0, 4),\n",
    "             'Theta': (4, 8),\n",
    "             'Alpha': (8, 12),\n",
    "             'Beta': (12, 30),\n",
    "             'Gamma': (30, 45)}\n",
    "    \n",
    "    ch_names = {\"fp2\":0, \"fp1\":1, \"f4\":2, \"f3\":3, \"c4\":4, \"c3\":5, \"o2\":6, \"o1\":7}\n",
    "\n",
    "    # Prepare data before vectorization\n",
    "    vector = []\n",
    "    prepared_data = ica_data.get_data()\n",
    "    analysis_data = np.zeros( (prepared_data.shape[0], prepared_data.shape[1]//2, prepared_data.shape[2]) )\n",
    "    \n",
    "    i = 0\n",
    "    for sample_epoch in prepared_data:\n",
    "        analysis_data[i][0] = (sample_epoch[1] - sample_epoch[0]) / (sample_epoch[1] + sample_epoch[0])\n",
    "        analysis_data[i][1] = (sample_epoch[3] - sample_epoch[2]) / (sample_epoch[3] + sample_epoch[2])\n",
    "        analysis_data[i][2] = (sample_epoch[5] - sample_epoch[4]) / (sample_epoch[5] + sample_epoch[4])\n",
    "        analysis_data[i][3] = (sample_epoch[7] - sample_epoch[6]) / (sample_epoch[7] + sample_epoch[6])\n",
    "        i+=1\n",
    "\n",
    "    for epoch in analysis_data:\n",
    "\n",
    "     # Get real amplitudes of FFT (only in postive frequencies)\n",
    "        fft_vals = np.absolute(np.fft.rfft(epoch.T))\n",
    "\n",
    "        # Get frequencies for amplitudes in Hz\n",
    "        fft_freq = np.fft.rfftfreq(len(epoch.T), 1.0/SAMPLE_FREQ)\n",
    "        eeg_band_fft = dict()\n",
    "\n",
    "        for band in eeg_bands:\n",
    "            freq_ix = np.where((fft_freq >= eeg_bands[band][0]) & \n",
    "                               (fft_freq <= eeg_bands[band][1]))[0]\n",
    "            eeg_band_fft[band] = np.mean(fft_vals[freq_ix])\n",
    "\n",
    "        vector.append(eeg_band_fft['Alpha'] / eeg_band_fft['Beta'])\n",
    "\n",
    "    vector = np.array(vector)\n",
    "    return normalize(vector[:,np.newaxis], axis=0).ravel()\n",
    "    "
   ]
  },
  {
   "cell_type": "markdown",
   "metadata": {},
   "source": [
    "Now let's use some files to demonstrate analysis: //TODO some trash here"
   ]
  },
  {
   "cell_type": "code",
   "execution_count": 20,
   "metadata": {},
   "outputs": [
    {
     "name": "stdout",
     "output_type": "stream",
     "text": [
      "Setting up band-pass filter from 2 - 50 Hz\n",
      "\n",
      "FIR filter parameters\n",
      "---------------------\n",
      "Designing a one-pass, zero-phase, non-causal bandpass filter:\n",
      "- Windowed time-domain design (firwin) method\n",
      "- Hamming window with 0.0194 passband ripple and 53 dB stopband attenuation\n",
      "- Lower passband edge: 2.00\n",
      "- Lower transition bandwidth: 2.00 Hz (-6 dB cutoff frequency: 1.00 Hz)\n",
      "- Upper passband edge: 50.00 Hz\n",
      "- Upper transition bandwidth: 12.50 Hz (-6 dB cutoff frequency: 56.25 Hz)\n",
      "- Filter length: 413 samples (1.652 sec)\n",
      "\n",
      "Creating RawArray with float64 data, n_channels=8, n_times=10000\n",
      "    Range : 0 ... 9999 =      0.000 ...    39.996 secs\n",
      "Ready.\n",
      "40 matching events found\n",
      "Applying baseline correction (mode: mean)\n",
      "Not setting metadata\n",
      "0 projection items activated\n",
      "Loading data for 40 events and 176 original time points ...\n",
      "1 bad epochs dropped\n",
      "Fitting ICA to data using 8 channels (please be patient, this may take a while)\n",
      "Inferring max_pca_components from picks\n",
      "Using all PCA components: 8\n",
      "Fitting ICA took 0.2s.\n",
      "Transforming to ICA space (8 components)\n",
      "Zeroing out 0 ICA components\n",
      "Setting up band-pass filter from 2 - 50 Hz\n",
      "\n",
      "FIR filter parameters\n",
      "---------------------\n",
      "Designing a one-pass, zero-phase, non-causal bandpass filter:\n",
      "- Windowed time-domain design (firwin) method\n",
      "- Hamming window with 0.0194 passband ripple and 53 dB stopband attenuation\n",
      "- Lower passband edge: 2.00\n",
      "- Lower transition bandwidth: 2.00 Hz (-6 dB cutoff frequency: 1.00 Hz)\n",
      "- Upper passband edge: 50.00 Hz\n",
      "- Upper transition bandwidth: 12.50 Hz (-6 dB cutoff frequency: 56.25 Hz)\n",
      "- Filter length: 413 samples (1.652 sec)\n",
      "\n",
      "Creating RawArray with float64 data, n_channels=8, n_times=10000\n",
      "    Range : 0 ... 9999 =      0.000 ...    39.996 secs\n",
      "Ready.\n",
      "40 matching events found\n",
      "Applying baseline correction (mode: mean)\n",
      "Not setting metadata\n",
      "0 projection items activated\n",
      "Loading data for 40 events and 176 original time points ...\n",
      "1 bad epochs dropped\n",
      "Fitting ICA to data using 8 channels (please be patient, this may take a while)\n",
      "Inferring max_pca_components from picks\n",
      "Using all PCA components: 8\n",
      "Fitting ICA took 0.5s.\n",
      "Transforming to ICA space (8 components)\n",
      "Zeroing out 0 ICA components\n"
     ]
    },
    {
     "name": "stderr",
     "output_type": "stream",
     "text": [
      "C:\\Users\\paras\\Anaconda3\\lib\\site-packages\\sklearn\\decomposition\\fastica_.py:121: ConvergenceWarning: FastICA did not converge. Consider increasing tolerance or the maximum number of iterations.\n",
      "  ConvergenceWarning)\n"
     ]
    },
    {
     "name": "stdout",
     "output_type": "stream",
     "text": [
      "Setting up band-pass filter from 2 - 50 Hz\n",
      "\n",
      "FIR filter parameters\n",
      "---------------------\n",
      "Designing a one-pass, zero-phase, non-causal bandpass filter:\n",
      "- Windowed time-domain design (firwin) method\n",
      "- Hamming window with 0.0194 passband ripple and 53 dB stopband attenuation\n",
      "- Lower passband edge: 2.00\n",
      "- Lower transition bandwidth: 2.00 Hz (-6 dB cutoff frequency: 1.00 Hz)\n",
      "- Upper passband edge: 50.00 Hz\n",
      "- Upper transition bandwidth: 12.50 Hz (-6 dB cutoff frequency: 56.25 Hz)\n",
      "- Filter length: 413 samples (1.652 sec)\n",
      "\n",
      "Creating RawArray with float64 data, n_channels=8, n_times=10000\n",
      "    Range : 0 ... 9999 =      0.000 ...    39.996 secs\n",
      "Ready.\n",
      "40 matching events found\n",
      "Applying baseline correction (mode: mean)\n",
      "Not setting metadata\n",
      "0 projection items activated\n",
      "Loading data for 40 events and 176 original time points ...\n",
      "1 bad epochs dropped\n",
      "Fitting ICA to data using 8 channels (please be patient, this may take a while)\n",
      "Inferring max_pca_components from picks\n",
      "Using all PCA components: 8\n",
      "Fitting ICA took 0.0s.\n",
      "Transforming to ICA space (8 components)\n",
      "Zeroing out 0 ICA components\n",
      "Setting up band-pass filter from 2 - 50 Hz\n",
      "\n",
      "FIR filter parameters\n",
      "---------------------\n",
      "Designing a one-pass, zero-phase, non-causal bandpass filter:\n",
      "- Windowed time-domain design (firwin) method\n",
      "- Hamming window with 0.0194 passband ripple and 53 dB stopband attenuation\n",
      "- Lower passband edge: 2.00\n",
      "- Lower transition bandwidth: 2.00 Hz (-6 dB cutoff frequency: 1.00 Hz)\n",
      "- Upper passband edge: 50.00 Hz\n",
      "- Upper transition bandwidth: 12.50 Hz (-6 dB cutoff frequency: 56.25 Hz)\n",
      "- Filter length: 413 samples (1.652 sec)\n",
      "\n",
      "Creating RawArray with float64 data, n_channels=8, n_times=10000\n",
      "    Range : 0 ... 9999 =      0.000 ...    39.996 secs\n",
      "Ready.\n",
      "40 matching events found\n",
      "Applying baseline correction (mode: mean)\n",
      "Not setting metadata\n",
      "0 projection items activated\n",
      "Loading data for 40 events and 176 original time points ...\n",
      "1 bad epochs dropped\n",
      "Fitting ICA to data using 8 channels (please be patient, this may take a while)\n",
      "Inferring max_pca_components from picks\n",
      "Using all PCA components: 8\n",
      "Fitting ICA took 0.1s.\n",
      "Transforming to ICA space (8 components)\n",
      "Zeroing out 0 ICA components\n",
      "Setting up band-pass filter from 2 - 50 Hz\n",
      "\n",
      "FIR filter parameters\n",
      "---------------------\n",
      "Designing a one-pass, zero-phase, non-causal bandpass filter:\n",
      "- Windowed time-domain design (firwin) method\n",
      "- Hamming window with 0.0194 passband ripple and 53 dB stopband attenuation\n",
      "- Lower passband edge: 2.00\n",
      "- Lower transition bandwidth: 2.00 Hz (-6 dB cutoff frequency: 1.00 Hz)\n",
      "- Upper passband edge: 50.00 Hz\n",
      "- Upper transition bandwidth: 12.50 Hz (-6 dB cutoff frequency: 56.25 Hz)\n",
      "- Filter length: 413 samples (1.652 sec)\n",
      "\n",
      "Creating RawArray with float64 data, n_channels=8, n_times=10000\n",
      "    Range : 0 ... 9999 =      0.000 ...    39.996 secs\n",
      "Ready.\n",
      "40 matching events found\n",
      "Applying baseline correction (mode: mean)\n",
      "Not setting metadata\n",
      "0 projection items activated\n",
      "Loading data for 40 events and 176 original time points ...\n",
      "1 bad epochs dropped\n",
      "Fitting ICA to data using 8 channels (please be patient, this may take a while)\n",
      "Inferring max_pca_components from picks\n",
      "Using all PCA components: 8\n",
      "Fitting ICA took 0.1s.\n",
      "Transforming to ICA space (8 components)\n",
      "Zeroing out 0 ICA components\n",
      "Setting up band-pass filter from 2 - 50 Hz\n",
      "\n",
      "FIR filter parameters\n",
      "---------------------\n",
      "Designing a one-pass, zero-phase, non-causal bandpass filter:\n",
      "- Windowed time-domain design (firwin) method\n",
      "- Hamming window with 0.0194 passband ripple and 53 dB stopband attenuation\n",
      "- Lower passband edge: 2.00\n",
      "- Lower transition bandwidth: 2.00 Hz (-6 dB cutoff frequency: 1.00 Hz)\n",
      "- Upper passband edge: 50.00 Hz\n",
      "- Upper transition bandwidth: 12.50 Hz (-6 dB cutoff frequency: 56.25 Hz)\n",
      "- Filter length: 413 samples (1.652 sec)\n",
      "\n",
      "Creating RawArray with float64 data, n_channels=8, n_times=10000\n",
      "    Range : 0 ... 9999 =      0.000 ...    39.996 secs\n",
      "Ready.\n",
      "40 matching events found\n",
      "Applying baseline correction (mode: mean)\n",
      "Not setting metadata\n",
      "0 projection items activated\n",
      "Loading data for 40 events and 176 original time points ...\n",
      "1 bad epochs dropped\n",
      "Fitting ICA to data using 8 channels (please be patient, this may take a while)\n",
      "Inferring max_pca_components from picks\n",
      "Using all PCA components: 8\n",
      "Fitting ICA took 0.0s.\n",
      "Transforming to ICA space (8 components)\n",
      "Zeroing out 0 ICA components\n",
      "med-med:\n",
      "0.2871992668365301\n",
      "cod-cod:\n",
      "0.9428843041665742\n",
      "bas-bas:\n",
      "0.7945828740627427\n",
      "med-cod:\n",
      "0.8347364318271934\n",
      "med-bas:\n",
      "0.7104759222587345\n",
      "cod-bas:\n",
      "0.7660891380964149\n"
     ]
    }
   ],
   "source": [
    "med_vector_1 = funct(\"samples/meditation_1.txt\", 10000)\n",
    "med_vector_2 = funct(\"samples/meditation_2.txt\", 10000)\n",
    "cod_vector_1 = funct(\"samples/coding_1.txt\", 10000)\n",
    "cod_vector_2 = funct(\"samples/coding_2.txt\", 10000)\n",
    "bas_vector_1 = funct(\"samples/baseline_1.txt\", 10000)\n",
    "bas_vector_2 = funct(\"samples/baseline_2.txt\", 10000)\n",
    "print(\"med-med:\")\n",
    "print(spatial.distance.cosine(med_vector_1, med_vector_2))\n",
    "print(\"cod-cod:\")\n",
    "print(spatial.distance.cosine(cod_vector_1, cod_vector_2))\n",
    "print(\"bas-bas:\")\n",
    "print(spatial.distance.cosine(bas_vector_1, bas_vector_2))\n",
    "print(\"med-cod:\")\n",
    "print(spatial.distance.cosine(med_vector_1, cod_vector_2))\n",
    "print(\"med-bas:\")\n",
    "print(spatial.distance.cosine(med_vector_2, bas_vector_1))\n",
    "print(\"cod-bas:\")\n",
    "print(spatial.distance.cosine(cod_vector_1, bas_vector_2))"
   ]
  },
  {
   "cell_type": "markdown",
   "metadata": {},
   "source": [
    "More long example:"
   ]
  },
  {
   "cell_type": "code",
   "execution_count": 21,
   "metadata": {},
   "outputs": [
    {
     "name": "stdout",
     "output_type": "stream",
     "text": [
      "Setting up band-pass filter from 2 - 50 Hz\n",
      "\n",
      "FIR filter parameters\n",
      "---------------------\n",
      "Designing a one-pass, zero-phase, non-causal bandpass filter:\n",
      "- Windowed time-domain design (firwin) method\n",
      "- Hamming window with 0.0194 passband ripple and 53 dB stopband attenuation\n",
      "- Lower passband edge: 2.00\n",
      "- Lower transition bandwidth: 2.00 Hz (-6 dB cutoff frequency: 1.00 Hz)\n",
      "- Upper passband edge: 50.00 Hz\n",
      "- Upper transition bandwidth: 12.50 Hz (-6 dB cutoff frequency: 56.25 Hz)\n",
      "- Filter length: 413 samples (1.652 sec)\n",
      "\n",
      "Creating RawArray with float64 data, n_channels=8, n_times=100000\n",
      "    Range : 0 ... 99999 =      0.000 ...   399.996 secs\n",
      "Ready.\n",
      "400 matching events found\n",
      "Applying baseline correction (mode: mean)\n",
      "Not setting metadata\n",
      "0 projection items activated\n",
      "Loading data for 400 events and 176 original time points ...\n",
      "1 bad epochs dropped\n",
      "Fitting ICA to data using 8 channels (please be patient, this may take a while)\n",
      "Inferring max_pca_components from picks\n",
      "Using all PCA components: 8\n",
      "Fitting ICA took 0.6s.\n",
      "Transforming to ICA space (8 components)\n",
      "Zeroing out 0 ICA components\n",
      "Setting up band-pass filter from 2 - 50 Hz\n",
      "\n",
      "FIR filter parameters\n",
      "---------------------\n",
      "Designing a one-pass, zero-phase, non-causal bandpass filter:\n",
      "- Windowed time-domain design (firwin) method\n",
      "- Hamming window with 0.0194 passband ripple and 53 dB stopband attenuation\n",
      "- Lower passband edge: 2.00\n",
      "- Lower transition bandwidth: 2.00 Hz (-6 dB cutoff frequency: 1.00 Hz)\n",
      "- Upper passband edge: 50.00 Hz\n",
      "- Upper transition bandwidth: 12.50 Hz (-6 dB cutoff frequency: 56.25 Hz)\n",
      "- Filter length: 413 samples (1.652 sec)\n",
      "\n",
      "Creating RawArray with float64 data, n_channels=8, n_times=100000\n",
      "    Range : 0 ... 99999 =      0.000 ...   399.996 secs\n",
      "Ready.\n",
      "400 matching events found\n",
      "Applying baseline correction (mode: mean)\n",
      "Not setting metadata\n",
      "0 projection items activated\n",
      "Loading data for 400 events and 176 original time points ...\n",
      "1 bad epochs dropped\n",
      "Fitting ICA to data using 8 channels (please be patient, this may take a while)\n",
      "Inferring max_pca_components from picks\n",
      "Using all PCA components: 8\n",
      "Fitting ICA took 0.5s.\n",
      "Transforming to ICA space (8 components)\n",
      "Zeroing out 0 ICA components\n",
      "Setting up band-pass filter from 2 - 50 Hz\n",
      "\n",
      "FIR filter parameters\n",
      "---------------------\n",
      "Designing a one-pass, zero-phase, non-causal bandpass filter:\n",
      "- Windowed time-domain design (firwin) method\n",
      "- Hamming window with 0.0194 passband ripple and 53 dB stopband attenuation\n",
      "- Lower passband edge: 2.00\n",
      "- Lower transition bandwidth: 2.00 Hz (-6 dB cutoff frequency: 1.00 Hz)\n",
      "- Upper passband edge: 50.00 Hz\n",
      "- Upper transition bandwidth: 12.50 Hz (-6 dB cutoff frequency: 56.25 Hz)\n",
      "- Filter length: 413 samples (1.652 sec)\n",
      "\n",
      "Creating RawArray with float64 data, n_channels=8, n_times=100000\n",
      "    Range : 0 ... 99999 =      0.000 ...   399.996 secs\n",
      "Ready.\n",
      "400 matching events found\n",
      "Applying baseline correction (mode: mean)\n",
      "Not setting metadata\n",
      "0 projection items activated\n",
      "Loading data for 400 events and 176 original time points ...\n",
      "1 bad epochs dropped\n",
      "Fitting ICA to data using 8 channels (please be patient, this may take a while)\n",
      "Inferring max_pca_components from picks\n",
      "Using all PCA components: 8\n",
      "Fitting ICA took 0.3s.\n",
      "Transforming to ICA space (8 components)\n",
      "Zeroing out 0 ICA components\n",
      "Setting up band-pass filter from 2 - 50 Hz\n",
      "\n",
      "FIR filter parameters\n",
      "---------------------\n",
      "Designing a one-pass, zero-phase, non-causal bandpass filter:\n",
      "- Windowed time-domain design (firwin) method\n",
      "- Hamming window with 0.0194 passband ripple and 53 dB stopband attenuation\n",
      "- Lower passband edge: 2.00\n",
      "- Lower transition bandwidth: 2.00 Hz (-6 dB cutoff frequency: 1.00 Hz)\n",
      "- Upper passband edge: 50.00 Hz\n",
      "- Upper transition bandwidth: 12.50 Hz (-6 dB cutoff frequency: 56.25 Hz)\n",
      "- Filter length: 413 samples (1.652 sec)\n",
      "\n",
      "Creating RawArray with float64 data, n_channels=8, n_times=100000\n",
      "    Range : 0 ... 99999 =      0.000 ...   399.996 secs\n",
      "Ready.\n",
      "400 matching events found\n",
      "Applying baseline correction (mode: mean)\n",
      "Not setting metadata\n",
      "0 projection items activated\n",
      "Loading data for 400 events and 176 original time points ...\n",
      "1 bad epochs dropped\n",
      "Fitting ICA to data using 8 channels (please be patient, this may take a while)\n",
      "Inferring max_pca_components from picks\n",
      "Using all PCA components: 8\n",
      "Fitting ICA took 0.3s.\n",
      "Transforming to ICA space (8 components)\n",
      "Zeroing out 0 ICA components\n",
      "med-med:\n",
      "0.5493691504921356\n",
      "cod-cod:\n",
      "0.9912902512763473\n",
      "med1-cod1:\n",
      "0.8925578753444985\n",
      "med1-cod2:\n",
      "0.9308681333615662\n",
      "med2-cod1:\n",
      "0.832717216183263\n",
      "med2-cod2:\n",
      "0.9198462650173211\n"
     ]
    }
   ],
   "source": [
    "med_vector_1 = funct(\"samples/meditation_1.txt\", 100000)\n",
    "med_vector_2 = funct(\"samples/meditation_2.txt\", 100000)\n",
    "cod_vector_1 = funct(\"samples/coding_1.txt\", 100000)\n",
    "cod_vector_2 = funct(\"samples/coding_2.txt\", 100000)\n",
    "\n",
    "print(\"med-med:\")\n",
    "print(spatial.distance.cosine(med_vector_1, med_vector_2))\n",
    "print(\"cod-cod:\")\n",
    "print(spatial.distance.cosine(cod_vector_1, cod_vector_2))\n",
    "\n",
    "print(\"med1-cod1:\")\n",
    "print(spatial.distance.cosine(med_vector_1, cod_vector_1))\n",
    "print(\"med1-cod2:\")\n",
    "print(spatial.distance.cosine(med_vector_1, cod_vector_2))\n",
    "print(\"med2-cod1:\")\n",
    "print(spatial.distance.cosine(med_vector_2, cod_vector_1))\n",
    "print(\"med2-cod2:\")\n",
    "print(spatial.distance.cosine(med_vector_2, cod_vector_2))"
   ]
  },
  {
   "cell_type": "markdown",
   "metadata": {},
   "source": [
    "Consrtucting table:"
   ]
  },
  {
   "cell_type": "code",
   "execution_count": 22,
   "metadata": {},
   "outputs": [],
   "source": [
    "def remove_epochs(data_epochs):\n",
    "    dat = data_epochs.get_data()\n",
    "    data = np.zeros( (dat.shape[0] * dat.shape[2], 8) )\n",
    "    n_epoch = len(dat)\n",
    "    n_in_epoch = dat.shape[2]\n",
    "    for i in range(n_epoch):\n",
    "        data[i*n_in_epoch:i*n_in_epoch + n_in_epoch] = dat[i].T\n",
    "    return data\n",
    "    \n",
    "def build_table(data):\n",
    "    # Get real amplitudes of FFT (only in postive frequencies)\n",
    "    fft_vals = np.absolute(np.fft.rfft(data))\n",
    "    # Get frequencies for amplitudes in Hz\n",
    "    fft_freq = np.fft.rfftfreq(len(data), 1.0/SAMPLE_FREQ)\n",
    "    # Define EEG bands\n",
    "    eeg_bands = {'Delta': (0, 4),\n",
    "                 'Theta': (4, 8),\n",
    "                 'Alpha': (8, 12),\n",
    "                 'Beta': (12, 30),\n",
    "                 'Gamma': (30, 45)}\n",
    "    # Take the mean of the fft amplitude for each EEG band\n",
    "    eeg_band_fft = dict()\n",
    "    for band in eeg_bands:  \n",
    "        freq_ix = np.where((fft_freq >= eeg_bands[band][0]) & \n",
    "                           (fft_freq <= eeg_bands[band][1]))[0]\n",
    "        eeg_band_fft[band] = np.mean(fft_vals[freq_ix])\n",
    "    # Plot the data (using pandas here cause it's easy)\n",
    "    df = pd.DataFrame(columns=['band', 'val'])\n",
    "    df['band'] = eeg_bands.keys()\n",
    "    df['val'] = [eeg_band_fft[band] for band in eeg_bands]\n",
    "    ax = df.plot.bar(x='band', y='val', legend=False)\n",
    "    ax.set_xlabel(\"EEG band\")\n",
    "    ax.set_ylabel(\"Mean band Amplitude\")\n",
    "    return df"
   ]
  },
  {
   "cell_type": "markdown",
   "metadata": {},
   "source": [
    "Building table:"
   ]
  },
  {
   "cell_type": "code",
   "execution_count": 23,
   "metadata": {},
   "outputs": [
    {
     "data": {
      "text/html": [
       "<div>\n",
       "<style scoped>\n",
       "    .dataframe tbody tr th:only-of-type {\n",
       "        vertical-align: middle;\n",
       "    }\n",
       "\n",
       "    .dataframe tbody tr th {\n",
       "        vertical-align: top;\n",
       "    }\n",
       "\n",
       "    .dataframe thead th {\n",
       "        text-align: right;\n",
       "    }\n",
       "</style>\n",
       "<table border=\"1\" class=\"dataframe\">\n",
       "  <thead>\n",
       "    <tr style=\"text-align: right;\">\n",
       "      <th></th>\n",
       "      <th>band</th>\n",
       "      <th>val</th>\n",
       "    </tr>\n",
       "  </thead>\n",
       "  <tbody>\n",
       "    <tr>\n",
       "      <th>0</th>\n",
       "      <td>Delta</td>\n",
       "      <td>0.322479</td>\n",
       "    </tr>\n",
       "    <tr>\n",
       "      <th>1</th>\n",
       "      <td>Theta</td>\n",
       "      <td>0.322329</td>\n",
       "    </tr>\n",
       "    <tr>\n",
       "      <th>2</th>\n",
       "      <td>Alpha</td>\n",
       "      <td>0.372836</td>\n",
       "    </tr>\n",
       "    <tr>\n",
       "      <th>3</th>\n",
       "      <td>Beta</td>\n",
       "      <td>0.317862</td>\n",
       "    </tr>\n",
       "    <tr>\n",
       "      <th>4</th>\n",
       "      <td>Gamma</td>\n",
       "      <td>0.314261</td>\n",
       "    </tr>\n",
       "  </tbody>\n",
       "</table>\n",
       "</div>"
      ],
      "text/plain": [
       "    band       val\n",
       "0  Delta  0.322479\n",
       "1  Theta  0.322329\n",
       "2  Alpha  0.372836\n",
       "3   Beta  0.317862\n",
       "4  Gamma  0.314261"
      ]
     },
     "execution_count": 23,
     "metadata": {},
     "output_type": "execute_result"
    },
    {
     "data": {
      "image/png": "[encoded data removed]",
      "text/plain": [
       "<Figure size 432x288 with 1 Axes>"
      ]
     },
     "metadata": {
      "needs_background": "light"
     },
     "output_type": "display_data"
    }
   ],
   "source": [
    "build_table(remove_epochs(ica_data))"
   ]
  }
 ],
 "metadata": {
  "kernelspec": {
   "display_name": "Python 3",
   "language": "python",
   "name": "python3"
  },
  "language_info": {
   "codemirror_mode": {
    "name": "ipython",
    "version": 3
   },
   "file_extension": ".py",
   "mimetype": "text/x-python",
   "name": "python",
   "nbconvert_exporter": "python",
   "pygments_lexer": "ipython3",
   "version": "3.7.3"
  }
 },
 "nbformat": 4,
 "nbformat_minor": 2
}
