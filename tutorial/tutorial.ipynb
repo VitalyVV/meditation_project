{
 "cells": [
  {
   "cell_type": "markdown",
   "metadata": {},
   "source": [
    "<h2></h2>\n",
    "<p></p>\n",
    "<h1>Analysing BCI data</h1>\n",
    "<p>\n",
    "This tutorial will give some explanations of BCI data analysis. We will do it with using python <a href=\"https://www.martinos.org/mne/stable/index.html\">mne library</a>, but in other languages and libraries should me analogs. Some actual code you can find <a href=\"https://github.com/VitalyVV/meditation_project/blob/master/Untitled.ipynb\">here</a>.\n",
    "</p>\n",
    "<h2>Why we need to analyse BCI data?</h2>\n",
    "<p>The success of the experiment lies not only in the correct formulation of the experiment itself, but also in the correct analysis of the data received from BCI, so we should make proper analysis of it.</p>\n",
    "<h2>Steps of analysis:</h2>\n",
    "<ol>\n",
    "    <li>\n",
    "        <p>First of all, we should <strong>collect and load</strong> our data. If the experiment was carried out correctly and we have proper data obtained from the BCi, we need to bring data to a certain format (if this was not done automatically or if the data was taken from several sources). After that we have to upload them for further processing.\n",
    "        </p><br>\n",
    "    </li>\n",
    "    <li>\n",
    "        <p>After loading data we need to make <strong>preprocessing</strong>: cut unneeded parts and filter data.\n",
    "        </p>\n",
    "        <p>Some information obtained from the BCI is often redundant, that is, they have extra parts (for example, sample indexes, accel data, time stamps or aux data). If this information is not needed for analysis, it is worth cutting it out, because extra data for analysis entail additional error and resource costs.\n",
    "        </p>\n",
    "        <p> Also, when working with the BCI, it is necessary to take into account data contamination: it may be external stimuli such as the electrical network or information that interferes with research such as some body movements. This data must be filtered, because otherwise the data will carry a lot of interference and the error will be high.\n",
    "        </p><br>\n",
    "    </li>\n",
    "    <li>\n",
    "        <p>After preprocessing we should <strong>format</strong> our data in correspondence with functions, that we will use\n",
    "        </p>\n",
    "        <p> When working with functions and libraries, you should pay attention to the format of input and output data, because for most of the functions data should be strictly formatted.\n",
    "        </p><br>\n",
    "    </li>\n",
    "    <li>\n",
    "        <p>Then we preprocessed and formatted our data, we should develop some <strong>interpretation</strong> of this data.\n",
    "        </p>\n",
    "        <p> The data received from BCI itself does not carry the meaning, if not interpreted. You need to come up with ideas on how to get something worthwhile from the data. The conclusion of the study is built on the basis of interpretation. This step should be treated very carefully.\n",
    "        </p><br>\n",
    "    </li>\n",
    "    <li>\n",
    "        <p>We also can make some <strong>visualisations</strong>.\n",
    "        </p>\n",
    "        <p>Some information is easier to perceive and analyze visually. So you can see what to look for during data interpretation. This step can be carried out both before and after the interpretation of the data.\n",
    "        </p><br>\n",
    "    </li>\n",
    "\n",
    "</ol>\n",
    "<h2>Why it is enough?</h2>\n",
    "<p>Performing the above steps is sufficient for data analysis. We got rid of the artifacts in the record obtained from the interface and filtered the data in a certain range, thereby obtaining pure processed data suitable for analysis. Therefore, the interpretation and visualization, if they are designed correctly, will give us with high probability useful data with which you can work in the study.</p>\n",
    "<h2>More details with examples</h2>"
   ]
  },
  {
   "cell_type": "markdown",
   "metadata": {},
   "source": [
    "First of all we need to import libraries and define constants:"
   ]
  },
  {
   "cell_type": "code",
   "execution_count": 4,
   "metadata": {},
   "outputs": [],
   "source": [
    "import numpy as np\n",
    "import mne\n",
    "from pathlib import Path\n",
    "from mne.preprocessing import ICA\n",
    "import matplotlib.pyplot as plt\n",
    "import pandas as pd\n",
    "from mne.filter import filter_data\n",
    "from scipy import spatial\n",
    "from sklearn.preprocessing import normalize\n",
    "%matplotlib inline\n",
    "\n",
    "n_channels = 8\n",
    "SAMPLE_FREQ = 250"
   ]
  },
  {
   "cell_type": "markdown",
   "metadata": {},
   "source": [
    "<h3>Collecting and Loading</h3>\n",
    "<p>If you have prepaired formatted data, you can skip step of preformatting.</p>\n",
    "<p>It is often better to have data in one format, so working with it will be much easier. In our study file format is following:</p>"
   ]
  },
  {
   "cell_type": "code",
   "execution_count": 5,
   "metadata": {},
   "outputs": [
    {
     "name": "stdout",
     "output_type": "stream",
     "text": [
      "%OpenBCI Raw EEG Data\n",
      "%Number of channels = 8\n",
      "%Sample Rate = 250.0 Hz\n",
      "%First Column = SampleIndex\n",
      "%Last Column = Timestamp \n",
      "%Other Columns = EEG data in microvolts followed by Accel Data (in G) interleaved with Aux Data\n",
      "0, 4089.94, 4063.03, 3586.63, -3940.90, 4355.68, 4111.45, 4233.67, 4310.89, -0.026, 0.112, -1.024, 13:13:15.083, 1554631995083\n",
      "1, 4069.87, 4053.58, 3567.87, -3945.02, 4332.66, 4087.55, 4208.34, 4286.33, 0.000, 0.000, 0.000, 13:13:15.084, 1554631995084\n",
      "2, 4029.30, 4028.50, 3528.63, -3947.45, 4290.62, 4045.89, 4164.64, 4243.61, 0.000, 0.000, 0.000, 13:13:15.084, 1554631995084\n",
      "3, 4000.36, 4022.67, 3501.83, -3947.70, 4258.36, 4013.46, 4130.54, 4210.38, 0.000, 0.000, 0.000, 13:13:15.084, 1554631995084\n"
     ]
    }
   ],
   "source": [
    "filename=\"samples/example_data.txt\"\n",
    "file = open(filename, \"r\").readlines()\n",
    "for line in file:\n",
    "    print(line[:-1])\n",
    "    if line[0]=='3':\n",
    "        break\n"
   ]
  },
  {
   "cell_type": "markdown",
   "metadata": {},
   "source": [
    "<p>Here strokes starting from \"%\" are comments which describe strokes of data. After comments are placed all data received from BCI in format specified in comments.\n",
    "</p>\n",
    "<p>In our study we have some problem with EEG data, because it is given to us in microvolts, but mne library works only with volts. That's why we need to convert units:</p>"
   ]
  },
  {
   "cell_type": "code",
   "execution_count": 6,
   "metadata": {},
   "outputs": [],
   "source": [
    "def microvolts_to_volts(value):\n",
    "    \"\"\"\n",
    "    Since openBCI writes data into micro volts and mne works with volts we\n",
    "    will need to convert the data later.\n",
    "    :param value: single micro volts value\n",
    "    :return: same value in volts\n",
    "    \"\"\"\n",
    "    return float(value) / 1000\n",
    "\n",
    "# Converter of BCI file to valuable data\n",
    "converter = {i: (microvolts_to_volts if i < 12 else lambda x: str(x).split(\".\")[1][:-1])\n",
    "    for i in range(0, 13)}"
   ]
  },
  {
   "cell_type": "markdown",
   "metadata": {},
   "source": [
    "<p>After formatting all data we can load data and specify all parameters. In our study we work with <a href=\"https://martinos.org/mne/dev/generated/mne.io.RawArray.html\">mne library RawArray</a>. To build correct and readable data with it we should specify channel's names, channel's types, sample frequency and montage standart.</p>\n",
    "<p>In our study we have 8 EEG channels in <a href=\"https://upload.wikimedia.org/wikipedia/commons/thumb/7/70/21_electrodes_of_International_10-20_system_for_EEG.svg/1200px-21_electrodes_of_International_10-20_system_for_EEG.svg.png\">standart 10/20</a>: fp2, fp1, f4, f3, c4, c3, o2, o1. And our sample rate is 250 Hz. We create instance of info (from mne library) and give all this data into it. Note that order of channels is referring to channel number on <a href=\"https://shop.openbci.com/products/cyton-biosensing-board-8-channel?variant=38958638542\">Cyton BCI board</a>.</p>"
   ]
  },
  {
   "cell_type": "code",
   "execution_count": 7,
   "metadata": {},
   "outputs": [],
   "source": [
    "ch_names = {\"fp2\":1, \"fp1\":2, \"f4\":3, \"f3\":4, \"c4\":5, \"c3\":6, \"o2\":7, \"o1\":8}\n",
    "\n",
    "info = mne.create_info(\n",
    "        ch_names=list(ch_names.keys()),\n",
    "        ch_types=['eeg' for i in range(0, len(ch_names))],\n",
    "        sfreq=250,\n",
    "        montage='standard_1020'\n",
    "    )"
   ]
  },
  {
   "cell_type": "markdown",
   "metadata": {},
   "source": [
    "<p>Now we should actually load our data. Often loading functions also have some loading options, like specifying format of data, comments and etc. In our study we skip first and last 10000 rows (40 seconds) of data, because these parts are testing data, which has no meaning. In our format comments start from \"%\" and all data is separated by \",\". So we wrote this in function attributes. Was used <a href=\"https://docs.scipy.org/doc/numpy/reference/generated/numpy.loadtxt.html\">numpy function loadtxt.</a></p>"
   ]
  },
  {
   "cell_type": "code",
   "execution_count": 8,
   "metadata": {},
   "outputs": [],
   "source": [
    "skiprows = 10000\n",
    "max_rows = 100000\n",
    "raw_data = np.loadtxt(filename, comments=\"%\", delimiter=\",\", converters=converter, skiprows=skiprows, max_rows=max_rows).T"
   ]
  },
  {
   "cell_type": "markdown",
   "metadata": {},
   "source": [
    "After loading raw data looks like N-dimensional array:"
   ]
  },
  {
   "cell_type": "code",
   "execution_count": 9,
   "metadata": {},
   "outputs": [
    {
     "name": "stdout",
     "output_type": "stream",
     "text": [
      "(14, 100000)\n"
     ]
    }
   ],
   "source": [
    "print(raw_data.shape)"
   ]
  },
  {
   "cell_type": "markdown",
   "metadata": {},
   "source": [
    "We have 14 columns of data and many rows. We had the same picture in example_data.txt file, so we assume, that loading was completed correctly."
   ]
  },
  {
   "cell_type": "markdown",
   "metadata": {},
   "source": [
    "<h3>Preprocessing</h3>"
   ]
  },
  {
   "cell_type": "markdown",
   "metadata": {},
   "source": [
    "<p>In preprocessing step we should make filtering of our data and cut everything unneeded. At first it is better to cut data, because filtering is resource-consuming process and we should cut data beforehand. In our study we need only data from our channels, so we don't need order numbers, accel and aux data:</p>"
   ]
  },
  {
   "cell_type": "code",
   "execution_count": 10,
   "metadata": {},
   "outputs": [],
   "source": [
    "cut_data = raw_data[list(ch_names.values())]"
   ]
  },
  {
   "cell_type": "markdown",
   "metadata": {},
   "source": [
    "After cutting sizes of our array should lessen:"
   ]
  },
  {
   "cell_type": "code",
   "execution_count": 11,
   "metadata": {},
   "outputs": [
    {
     "name": "stdout",
     "output_type": "stream",
     "text": [
      "(8, 100000)\n"
     ]
    }
   ],
   "source": [
    "print(cut_data.shape)"
   ]
  },
  {
   "cell_type": "markdown",
   "metadata": {},
   "source": [
    "<p>Now we have only 8 needed channels, so cutting was done correctly.</p>\n",
    "<p>After that we can filter data. We may have to complete complicated filtering, like cutting off artifacts. It can be done via fourier (or wavelet) transform. But in our study we decided to only cut frequencies in range [2:50] Hz, because too high and low frequencies are not related to our study. We made it through mne library, using <a href=\"https://martinos.org/mne/dev/generated/mne.filter.filter_data.html\">filter_data function</a>:"
   ]
  },
  {
   "cell_type": "code",
   "execution_count": 12,
   "metadata": {},
   "outputs": [
    {
     "name": "stdout",
     "output_type": "stream",
     "text": [
      "Setting up band-pass filter from 2 - 50 Hz\n",
      "\n",
      "FIR filter parameters\n",
      "---------------------\n",
      "Designing a one-pass, zero-phase, non-causal bandpass filter:\n",
      "- Windowed time-domain design (firwin) method\n",
      "- Hamming window with 0.0194 passband ripple and 53 dB stopband attenuation\n",
      "- Lower passband edge: 2.00\n",
      "- Lower transition bandwidth: 2.00 Hz (-6 dB cutoff frequency: 1.00 Hz)\n",
      "- Upper passband edge: 50.00 Hz\n",
      "- Upper transition bandwidth: 12.50 Hz (-6 dB cutoff frequency: 56.25 Hz)\n",
      "- Filter length: 413 samples (1.652 sec)\n",
      "\n"
     ]
    }
   ],
   "source": [
    "filtered_data = filter_data(cut_data, 250, l_freq=2, h_freq=50)"
   ]
  },
  {
   "cell_type": "markdown",
   "metadata": {},
   "source": [
    "After filtering sizes of our array should remain the same, but data inside of array cells should differ:"
   ]
  },
  {
   "cell_type": "code",
   "execution_count": 13,
   "metadata": {},
   "outputs": [
    {
     "name": "stdout",
     "output_type": "stream",
     "text": [
      "(8, 100000)\n",
      "\n",
      "Cut data cells:\n",
      "[[ 9.73776  9.84185 10.03079 ...  8.91801  8.62473  8.33968]\n",
      " [ 7.27424  7.51875  7.64488 ...  3.70013  3.41316  3.31876]\n",
      " [-8.29572 -8.20901 -7.9511  ... -8.60864 -8.82409 -9.14671]\n",
      " ...\n",
      " [ 6.14706  6.21966  6.5297  ...  6.9393   6.69182  6.32852]\n",
      " [10.7243  10.81261 11.12755 ... 11.1132  10.84404 10.45442]\n",
      " [12.04059 12.10456 12.40573 ... 12.26778 12.02068 11.66544]]\n",
      "\n",
      "Filtered data cells:\n",
      "[[ 1.80411242e-15  2.13239164e-01  2.07606744e-01 ...  4.98175497e-01\n",
      "   3.79539251e-01  8.11850587e-16]\n",
      " [ 1.27675648e-15  3.16548831e-01  2.03873409e-01 ...  2.96464783e-01\n",
      "   1.95047465e-01  2.70616862e-16]\n",
      " [-2.73392420e-15  2.33705337e-01  2.53842719e-01 ...  4.78139786e-01\n",
      "   3.83455351e-01 -1.51267887e-15]\n",
      " ...\n",
      " [ 8.81239526e-16  2.41092517e-01  3.00518589e-01 ...  5.43357244e-01\n",
      "   4.34602649e-01  3.19189120e-16]\n",
      " [ 3.01147995e-15  2.55637525e-01  3.20804728e-01 ...  5.87055967e-01\n",
      "   4.64525640e-01  1.63757896e-15]\n",
      " [ 1.22124533e-15  2.30100636e-01  2.84925640e-01 ...  5.35876175e-01\n",
      "   4.25866595e-01  1.51267887e-15]]\n"
     ]
    }
   ],
   "source": [
    "print(filtered_data.shape)\n",
    "print(\"\\nCut data cells:\")\n",
    "print(cut_data)\n",
    "print(\"\\nFiltered data cells:\")\n",
    "print(filtered_data)"
   ]
  },
  {
   "cell_type": "markdown",
   "metadata": {},
   "source": [
    "We can see, that size of array remained the same, and data changed, so we assume, that filtering was completed correctly."
   ]
  },
  {
   "cell_type": "markdown",
   "metadata": {},
   "source": [
    "<h3>Formatting</h3>"
   ]
  },
  {
   "cell_type": "markdown",
   "metadata": {},
   "source": [
    "<p>In formatting step we should prepare our preprocessed data to further processing. In simple words, we should match constraints of functions we would use later. In our study we work with ICA plotting and vectorizations, so firstly we need to create mne object from our data and info created before:</p>"
   ]
  },
  {
   "cell_type": "code",
   "execution_count": 14,
   "metadata": {},
   "outputs": [
    {
     "name": "stdout",
     "output_type": "stream",
     "text": [
      "Creating RawArray with float64 data, n_channels=8, n_times=100000\n",
      "    Range : 0 ... 99999 =      0.000 ...   399.996 secs\n",
      "Ready.\n"
     ]
    }
   ],
   "source": [
    "mne_data = mne.io.RawArray(filtered_data, info)"
   ]
  },
  {
   "cell_type": "markdown",
   "metadata": {},
   "source": [
    "<p>After matching data into mne object we need to cut our data into epochs, because it will help us in further processing. Importance of cutting data depends on your goal, but it is commonly used for //TODO uses.</p>"
   ]
  },
  {
   "cell_type": "code",
   "execution_count": 34,
   "metadata": {},
   "outputs": [
    {
     "name": "stdout",
     "output_type": "stream",
     "text": [
      "400 matching events found\n",
      "Applying baseline correction (mode: mean)\n",
      "Not setting metadata\n",
      "0 projection items activated\n",
      "Loading data for 400 events and 176 original time points ...\n",
      "1 bad epochs dropped\n"
     ]
    }
   ],
   "source": [
    "def create_epochs(raw_data, duration=1, verbose=True):\n",
    "    \"\"\"\n",
    "    Chops the RawArray onto Epochs given the time duration of every epoch\n",
    "    :param raw_data: mne.io.RawArray instance\n",
    "    :param duration: seconds for copping\n",
    "    :return: mne Epochs class\n",
    "    \"\"\"\n",
    "    events = mne.make_fixed_length_events(raw_data, duration=duration)\n",
    "    epochs = mne.Epochs(raw_data, events, preload=True, verbose=verbose)\n",
    "    return epochs\n",
    "\n",
    "data_series = create_epochs(mne_data)"
   ]
  },
  {
   "cell_type": "markdown",
   "metadata": {},
   "source": [
    "Now size of our N-dimensional array has changed:"
   ]
  },
  {
   "cell_type": "code",
   "execution_count": 35,
   "metadata": {},
   "outputs": [
    {
     "name": "stdout",
     "output_type": "stream",
     "text": [
      "(399, 8, 176)\n"
     ]
    }
   ],
   "source": [
    "print(data_series.get_data().shape)"
   ]
  },
  {
   "cell_type": "markdown",
   "metadata": {},
   "source": [
    "It became 3D array.\n",
    "<p>After that we can apply <a href=\"https://martinos.org/mne/stable/generated/mne.preprocessing.ICA.html\">ICA preprocessing</a>:</p>"
   ]
  },
  {
   "cell_type": "code",
   "execution_count": 36,
   "metadata": {},
   "outputs": [
    {
     "name": "stdout",
     "output_type": "stream",
     "text": [
      "Fitting ICA to data using 8 channels (please be patient, this may take a while)\n",
      "Inferring max_pca_components from picks\n",
      "Using all PCA components: 8\n",
      "Fitting ICA took 0.4s.\n",
      "Transforming to ICA space (8 components)\n",
      "Zeroing out 0 ICA components\n"
     ]
    }
   ],
   "source": [
    "ica = ICA()\n",
    "ica.fit(data_series)\n",
    "ica_data = ica.apply(data_series)"
   ]
  },
  {
   "cell_type": "markdown",
   "metadata": {},
   "source": [
    "<h3>Visualisation</h3>"
   ]
  },
  {
   "cell_type": "markdown",
   "metadata": {},
   "source": [
    "In visualization step we should visualise our data. We will make it using ICA:"
   ]
  },
  {
   "cell_type": "code",
   "execution_count": 37,
   "metadata": {},
   "outputs": [
    {
     "data": {
      "image/png": "[encoded data removed]",
      "text/plain": [
       "<Figure size 540x288 with 10 Axes>"
      ]
     },
     "metadata": {},
     "output_type": "display_data"
    },
    {
     "data": {
      "text/plain": [
       "[<Figure size 540x288 with 10 Axes>]"
      ]
     },
     "execution_count": 37,
     "metadata": {},
     "output_type": "execute_result"
    }
   ],
   "source": [
    "ica.plot_components()"
   ]
  },
  {
   "cell_type": "markdown",
   "metadata": {},
   "source": [
    "<p>We will have visual representation of every electrod's area, there red - is dinamic activity and blue is blue activity.\n",
    "</p>\n",
    "<p>Also we can construct a table to represent our data, but this method can't be applied in our study. Nevertheless, we can build table for example:\n",
    "</p>\n",
    "<p>Firstly we need to make some preparations:\n",
    "</p>\n",
    "<ul>\n",
    "    <li>We need to convert epoch data back into sequence data.</li>\n",
    "    <li>We need to prepare some extra data to form table.</li>\n",
    "    <li>Also we need to add data into table.</li>\n",
    "</ul>"
   ]
  },
  {
   "cell_type": "code",
   "execution_count": 38,
   "metadata": {},
   "outputs": [],
   "source": [
    "def remove_epochs(data_epochs):\n",
    "    dat = data_epochs.get_data()\n",
    "    data = np.zeros( (dat.shape[0] * dat.shape[2], 8) )\n",
    "    n_epoch = len(dat)\n",
    "    n_in_epoch = dat.shape[2]\n",
    "    for i in range(n_epoch):\n",
    "        data[i*n_in_epoch:i*n_in_epoch + n_in_epoch] = dat[i].T\n",
    "    return data\n",
    "    \n",
    "def build_table(data):\n",
    "    # Get real amplitudes of FFT (only in postive frequencies)\n",
    "    fft_vals = np.absolute(np.fft.rfft(data))\n",
    "    # Get frequencies for amplitudes in Hz\n",
    "    fft_freq = np.fft.rfftfreq(len(data), 1.0/SAMPLE_FREQ)\n",
    "    # Define EEG bands\n",
    "    eeg_bands = {'Delta': (0, 4),\n",
    "                 'Theta': (4, 8),\n",
    "                 'Alpha': (8, 12),\n",
    "                 'Beta': (12, 30),\n",
    "                 'Gamma': (30, 45)}\n",
    "    # Take the mean of the fft amplitude for each EEG band\n",
    "    eeg_band_fft = dict()\n",
    "    for band in eeg_bands:  \n",
    "        freq_ix = np.where((fft_freq >= eeg_bands[band][0]) & \n",
    "                           (fft_freq <= eeg_bands[band][1]))[0]\n",
    "        eeg_band_fft[band] = np.mean(fft_vals[freq_ix])\n",
    "    # Plot the data (using pandas here cause it's easy)\n",
    "    df = pd.DataFrame(columns=['band', 'val'])\n",
    "    df['band'] = eeg_bands.keys()\n",
    "    df['val'] = [eeg_band_fft[band] for band in eeg_bands]\n",
    "    ax = df.plot.bar(x='band', y='val', legend=False)\n",
    "    ax.set_xlabel(\"EEG band\")\n",
    "    ax.set_ylabel(\"Mean band Amplitude\")\n",
    "    return df"
   ]
  },
  {
   "cell_type": "markdown",
   "metadata": {},
   "source": [
    "Now, when preparation is complete, we can actually build table:"
   ]
  },
  {
   "cell_type": "code",
   "execution_count": 39,
   "metadata": {
    "scrolled": true
   },
   "outputs": [
    {
     "data": {
      "text/html": [
       "<div>\n",
       "<style scoped>\n",
       "    .dataframe tbody tr th:only-of-type {\n",
       "        vertical-align: middle;\n",
       "    }\n",
       "\n",
       "    .dataframe tbody tr th {\n",
       "        vertical-align: top;\n",
       "    }\n",
       "\n",
       "    .dataframe thead th {\n",
       "        text-align: right;\n",
       "    }\n",
       "</style>\n",
       "<table border=\"1\" class=\"dataframe\">\n",
       "  <thead>\n",
       "    <tr style=\"text-align: right;\">\n",
       "      <th></th>\n",
       "      <th>band</th>\n",
       "      <th>val</th>\n",
       "    </tr>\n",
       "  </thead>\n",
       "  <tbody>\n",
       "    <tr>\n",
       "      <th>0</th>\n",
       "      <td>Delta</td>\n",
       "      <td>0.322408</td>\n",
       "    </tr>\n",
       "    <tr>\n",
       "      <th>1</th>\n",
       "      <td>Theta</td>\n",
       "      <td>0.365089</td>\n",
       "    </tr>\n",
       "    <tr>\n",
       "      <th>2</th>\n",
       "      <td>Alpha</td>\n",
       "      <td>0.294705</td>\n",
       "    </tr>\n",
       "    <tr>\n",
       "      <th>3</th>\n",
       "      <td>Beta</td>\n",
       "      <td>0.322294</td>\n",
       "    </tr>\n",
       "    <tr>\n",
       "      <th>4</th>\n",
       "      <td>Gamma</td>\n",
       "      <td>0.335692</td>\n",
       "    </tr>\n",
       "  </tbody>\n",
       "</table>\n",
       "</div>"
      ],
      "text/plain": [
       "    band       val\n",
       "0  Delta  0.322408\n",
       "1  Theta  0.365089\n",
       "2  Alpha  0.294705\n",
       "3   Beta  0.322294\n",
       "4  Gamma  0.335692"
      ]
     },
     "execution_count": 39,
     "metadata": {},
     "output_type": "execute_result"
    },
    {
     "data": {
      "image/png": "[encoded data removed]",
      "text/plain": [
       "<Figure size 432x288 with 1 Axes>"
      ]
     },
     "metadata": {
      "needs_background": "light"
     },
     "output_type": "display_data"
    }
   ],
   "source": [
    "build_table(remove_epochs(ica_data))"
   ]
  },
  {
   "cell_type": "markdown",
   "metadata": {},
   "source": [
    "<h3>Interpretation</h3>"
   ]
  },
  {
   "cell_type": "markdown",
   "metadata": {},
   "source": [
    "In interpretation step you should implement analusis of data. In our study we decided to interpret data using vectorization.\n",
    "Firstly we need to define our eeg bands and channels, also we need to prepare our data:"
   ]
  },
  {
   "cell_type": "code",
   "execution_count": 40,
   "metadata": {},
   "outputs": [],
   "source": [
    "# Define EEG bands\n",
    "eeg_bands = {'Delta': (0, 4),\n",
    "             'Theta': (4, 8),\n",
    "             'Alpha': (8, 12),\n",
    "             'Beta': (12, 30),\n",
    "             'Gamma': (30, 45)}\n",
    "ch_names = {\"fp2\":0, \"fp1\":1, \"f4\":2, \"f3\":3, \"c4\":4, \"c3\":5, \"o2\":6, \"o1\":7}\n",
    "\n",
    "# Prepare data before vectorization\n",
    "vector = []\n",
    "prepared_data = ica_data.get_data()\n",
    "analysis_data = np.zeros( (prepared_data.shape[0], prepared_data.shape[1]//2, prepared_data.shape[2]) )"
   ]
  },
  {
   "cell_type": "markdown",
   "metadata": {},
   "source": [
    "Now we can actually apply our vectorization: we would evaluate difference in signal amplitudes with small difference in time using some magic staff like maths. //TODO"
   ]
  },
  {
   "cell_type": "code",
   "execution_count": 41,
   "metadata": {},
   "outputs": [],
   "source": [
    "i = 0\n",
    "for sample_epoch in prepared_data:\n",
    "    analysis_data[i][0] = (sample_epoch[1] - sample_epoch[0]) / (sample_epoch[1] + sample_epoch[0])\n",
    "    analysis_data[i][1] = (sample_epoch[3] - sample_epoch[2]) / (sample_epoch[3] + sample_epoch[2])\n",
    "    analysis_data[i][2] = (sample_epoch[5] - sample_epoch[4]) / (sample_epoch[5] + sample_epoch[4])\n",
    "    analysis_data[i][3] = (sample_epoch[7] - sample_epoch[6]) / (sample_epoch[7] + sample_epoch[6])\n",
    "    i+=1\n",
    "    \n",
    "for epoch in analysis_data:\n",
    "\n",
    " # Get real amplitudes of FFT (only in postive frequencies)\n",
    "    fft_vals = np.absolute(np.fft.rfft(epoch.T))\n",
    "\n",
    "    # Get frequencies for amplitudes in Hz\n",
    "    fft_freq = np.fft.rfftfreq(len(epoch.T), 1.0/SAMPLE_FREQ)\n",
    "    eeg_band_fft = dict()\n",
    "\n",
    "    for band in eeg_bands:\n",
    "        freq_ix = np.where((fft_freq >= eeg_bands[band][0]) & \n",
    "                           (fft_freq <= eeg_bands[band][1]))[0]\n",
    "        eeg_band_fft[band] = np.mean(fft_vals[freq_ix])\n",
    "\n",
    "    vector.append(eeg_band_fft['Alpha'] / eeg_band_fft['Beta'])\n",
    "\n",
    "vector = np.array(vector)"
   ]
  },
  {
   "cell_type": "markdown",
   "metadata": {},
   "source": [
    "In analysis often better to work with normalized vector, so let's normalize it:"
   ]
  },
  {
   "cell_type": "code",
   "execution_count": 42,
   "metadata": {},
   "outputs": [],
   "source": [
    "vector = normalize(vector[:,np.newaxis], axis=0).ravel()"
   ]
  },
  {
   "cell_type": "markdown",
   "metadata": {},
   "source": [
    "Before next step let's prepare some functions and files, because we have to use several files:"
   ]
  },
  {
   "cell_type": "code",
   "execution_count": 63,
   "metadata": {},
   "outputs": [],
   "source": [
    "def funct(filename, rows, verbose = True):\n",
    "    skiprows=10000\n",
    "    ch_names = {\"fp2\":1, \"fp1\":2, \"f4\":3, \"f3\":4, \"c4\":5, \"c3\":6, \"o2\":7, \"o1\":8}\n",
    "    data = np.loadtxt(filename, comments=\"%\", delimiter=\",\", converters=converter, skiprows=skiprows, max_rows=rows).T\n",
    "    data = data[list(ch_names.values())]\n",
    "    data = filter_data(data, 250, l_freq=2, h_freq=50, verbose = verbose)\n",
    "    data = mne.io.RawArray(data, info, verbose = verbose)\n",
    "    data_series = create_epochs(data, verbose = verbose)\n",
    "    ica = ICA()\n",
    "    ica.fit(data_series, verbose = verbose)\n",
    "    ica_data = ica.apply(data_series)\n",
    "    eeg_bands = {'Delta': (0, 4),\n",
    "             'Theta': (4, 8),\n",
    "             'Alpha': (8, 12),\n",
    "             'Beta': (12, 30),\n",
    "             'Gamma': (30, 45)}\n",
    "    \n",
    "    ch_names = {\"fp2\":0, \"fp1\":1, \"f4\":2, \"f3\":3, \"c4\":4, \"c3\":5, \"o2\":6, \"o1\":7}\n",
    "\n",
    "    # Prepare data before vectorization\n",
    "    vector = []\n",
    "    prepared_data = ica_data.get_data()\n",
    "    analysis_data = np.zeros((prepared_data.shape[0], prepared_data.shape[1]//2, prepared_data.shape[2]))\n",
    "    \n",
    "    i = 0\n",
    "    for sample_epoch in prepared_data:\n",
    "        analysis_data[i][0] = (sample_epoch[1] - sample_epoch[0]) / (sample_epoch[1] + sample_epoch[0])\n",
    "        analysis_data[i][1] = (sample_epoch[3] - sample_epoch[2]) / (sample_epoch[3] + sample_epoch[2])\n",
    "        analysis_data[i][2] = (sample_epoch[5] - sample_epoch[4]) / (sample_epoch[5] + sample_epoch[4])\n",
    "        analysis_data[i][3] = (sample_epoch[7] - sample_epoch[6]) / (sample_epoch[7] + sample_epoch[6])\n",
    "        i+=1\n",
    "\n",
    "    for epoch in analysis_data:\n",
    "\n",
    "     # Get real amplitudes of FFT (only in postive frequencies)\n",
    "        fft_vals = np.absolute(np.fft.rfft(epoch.T))\n",
    "\n",
    "        # Get frequencies for amplitudes in Hz\n",
    "        fft_freq = np.fft.rfftfreq(len(epoch.T), 1.0/SAMPLE_FREQ)\n",
    "        eeg_band_fft = dict()\n",
    "\n",
    "        for band in eeg_bands:\n",
    "            freq_ix = np.where((fft_freq >= eeg_bands[band][0]) & \n",
    "                               (fft_freq <= eeg_bands[band][1]))[0]\n",
    "            eeg_band_fft[band] = np.mean(fft_vals[freq_ix])\n",
    "\n",
    "        vector.append(eeg_band_fft['Alpha'] / eeg_band_fft['Beta'])\n",
    "\n",
    "    vector = np.array(vector)\n",
    "    return normalize(vector[:,np.newaxis], axis=0).ravel()\n",
    "    "
   ]
  },
  {
   "cell_type": "markdown",
   "metadata": {},
   "source": [
    "Now let's use some files to demonstrate analysis: //TODO some trash here"
   ]
  },
  {
   "cell_type": "code",
   "execution_count": 64,
   "metadata": {},
   "outputs": [
    {
     "name": "stdout",
     "output_type": "stream",
     "text": [
      "Transforming to ICA space (8 components)\n",
      "Zeroing out 0 ICA components\n",
      "Transforming to ICA space (8 components)\n",
      "Zeroing out 0 ICA components\n",
      "Transforming to ICA space (8 components)\n",
      "Zeroing out 0 ICA components\n",
      "Transforming to ICA space (8 components)\n",
      "Zeroing out 0 ICA components\n",
      "Transforming to ICA space (8 components)\n",
      "Zeroing out 0 ICA components\n",
      "Transforming to ICA space (8 components)\n",
      "Zeroing out 0 ICA components\n",
      "meditation-meditation:\n",
      "0.2871992668366047\n",
      "coding-coding:\n",
      "0.9428843041666938\n",
      "baseline-baseline:\n",
      "0.7945828740626226\n",
      "meditation-coding:\n",
      "0.8347364318294497\n",
      "meditation-baseline:\n",
      "0.7104759222585986\n",
      "coding-baseline:\n",
      "0.7660891380964896\n"
     ]
    }
   ],
   "source": [
    "med_vector_1 = funct(\"samples/meditation_1.txt\", 10000, verbose = False)\n",
    "med_vector_2 = funct(\"samples/meditation_2.txt\", 10000, verbose = False)\n",
    "cod_vector_1 = funct(\"samples/coding_1.txt\", 10000, verbose = False)\n",
    "cod_vector_2 = funct(\"samples/coding_2.txt\", 10000, verbose = False)\n",
    "bas_vector_1 = funct(\"samples/baseline_1.txt\", 10000, verbose = False)\n",
    "bas_vector_2 = funct(\"samples/baseline_2.txt\", 10000, verbose = False)\n",
    "print(\"meditation-meditation:\")\n",
    "print(spatial.distance.cosine(med_vector_1, med_vector_2))\n",
    "print(\"coding-coding:\")\n",
    "print(spatial.distance.cosine(cod_vector_1, cod_vector_2))\n",
    "print(\"baseline-baseline:\")\n",
    "print(spatial.distance.cosine(bas_vector_1, bas_vector_2))\n",
    "print(\"meditation-coding:\")\n",
    "print(spatial.distance.cosine(med_vector_1, cod_vector_2))\n",
    "print(\"meditation-baseline:\")\n",
    "print(spatial.distance.cosine(med_vector_2, bas_vector_1))\n",
    "print(\"coding-baseline:\")\n",
    "print(spatial.distance.cosine(cod_vector_1, bas_vector_2))"
   ]
  },
  {
   "cell_type": "markdown",
   "metadata": {},
   "source": [
    "More long and complex example: //TODO"
   ]
  },
  {
   "cell_type": "code",
   "execution_count": 65,
   "metadata": {},
   "outputs": [
    {
     "name": "stdout",
     "output_type": "stream",
     "text": [
      "Transforming to ICA space (8 components)\n",
      "Zeroing out 0 ICA components\n",
      "Transforming to ICA space (8 components)\n",
      "Zeroing out 0 ICA components\n",
      "Transforming to ICA space (8 components)\n",
      "Zeroing out 0 ICA components\n",
      "Transforming to ICA space (8 components)\n",
      "Zeroing out 0 ICA components\n",
      "med-med:\n",
      "0.549369150493014\n",
      "cod-cod:\n",
      "0.9912902512759703\n",
      "med1-cod1:\n",
      "0.8925578753442663\n",
      "med1-cod2:\n",
      "0.9308681333604264\n",
      "med2-cod1:\n",
      "0.8327172161828099\n",
      "med2-cod2:\n",
      "0.9198462650155057\n"
     ]
    }
   ],
   "source": [
    "med_vector_1 = funct(\"samples/meditation_1.txt\", 100000, verbose = False)\n",
    "med_vector_2 = funct(\"samples/meditation_2.txt\", 100000, verbose = False)\n",
    "cod_vector_1 = funct(\"samples/coding_1.txt\", 100000, verbose = False)\n",
    "cod_vector_2 = funct(\"samples/coding_2.txt\", 100000, verbose = False)\n",
    "\n",
    "print(\"meditation-meditation:\")\n",
    "print(spatial.distance.cosine(med_vector_1, med_vector_2))\n",
    "print(\"coding-coding:\")\n",
    "print(spatial.distance.cosine(cod_vector_1, cod_vector_2))\n",
    "\n",
    "print(\"med1-cod1:\")\n",
    "print(spatial.distance.cosine(med_vector_1, cod_vector_1))\n",
    "print(\"med1-cod2:\")\n",
    "print(spatial.distance.cosine(med_vector_1, cod_vector_2))\n",
    "print(\"med2-cod1:\")\n",
    "print(spatial.distance.cosine(med_vector_2, cod_vector_1))\n",
    "print(\"med2-cod2:\")\n",
    "print(spatial.distance.cosine(med_vector_2, cod_vector_2))"
   ]
  }
 ],
 "metadata": {
  "kernelspec": {
   "display_name": "Python 3",
   "language": "python",
   "name": "python3"
  },
  "language_info": {
   "codemirror_mode": {
    "name": "ipython",
    "version": 3
   },
   "file_extension": ".py",
   "mimetype": "text/x-python",
   "name": "python",
   "nbconvert_exporter": "python",
   "pygments_lexer": "ipython3",
   "version": "3.7.3"
  }
 },
 "nbformat": 4,
 "nbformat_minor": 2
}
