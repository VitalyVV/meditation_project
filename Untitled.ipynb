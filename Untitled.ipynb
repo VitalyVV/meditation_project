{
 "cells": [
  {
   "cell_type": "code",
   "execution_count": 43,
   "metadata": {},
   "outputs": [],
   "source": [
    "import numpy as np\n",
    "import mne\n",
    "from pathlib import Path\n",
    "from mne.preprocessing import ICA\n",
    "import matplotlib.pyplot as plt\n",
    "import pandas as pd\n",
    "from mne.filter import filter_data \n",
    "%matplotlib inline"
   ]
  },
  {
   "cell_type": "markdown",
   "metadata": {},
   "source": [
    "Code snippet for file processing, example of using below."
   ]
  },
  {
   "cell_type": "code",
   "execution_count": 44,
   "metadata": {},
   "outputs": [],
   "source": [
    "def microvolts_to_volts(value):\n",
    "    \"\"\"\n",
    "    Since openBCI writes data into micro volts and mne works with volts we\n",
    "    will need to convert the data later.\n",
    "    :param value: single micro volts value\n",
    "    :return: same value in volts\n",
    "    \"\"\"\n",
    "    return float(value) / 1000\n",
    "\n",
    "\n",
    "def load_openbci_file(filename, ch_names=None, skiprows=0, max_rows=0):\n",
    "    \"\"\"\n",
    "    Load data from OpenBCI file into mne RawArray for later use\n",
    "    :param filename: filename for reading in form of relative path from working directory\n",
    "    :param ch_names: dictionary having all or some channels like this:\n",
    "            {\"fp1\":1, \"fp2\":2, \"c3\":3, \"c4\":4, \"o1\":5, \"o2\":6, \"p3\":7, \"p4\":8}\n",
    "            Key specifies position on head using 10-20 standard and\n",
    "            Value referring to channel number on Cyton BCI board\n",
    "    :return: RawArray class of mne.io library\n",
    "    \"\"\"\n",
    "    if ch_names is None:\n",
    "        ch_names = {\"fp1\":1, \"fp2\":2, \"c3\":3, \"c4\":4, \"o1\":5, \"o2\":6, \"p3\":7, \"p4\":8}\n",
    "\n",
    "    # Converter of BCI file to valuable data\n",
    "    converter = {i: (microvolts_to_volts if i < 12 else lambda x: str(x).split(\".\")[1][:-1])\n",
    "                 for i in range(0, 13)}\n",
    "\n",
    "    info = mne.create_info(\n",
    "        ch_names=list(ch_names.keys()),\n",
    "        ch_types=['eeg' for i in range(0, len(ch_names))],\n",
    "        sfreq=250,\n",
    "        montage='standard_1020'\n",
    "    )\n",
    "    data = np.loadtxt(filename, comments=\"%\", delimiter=\",\",\n",
    "                      converters=converter, skiprows=skiprows, max_rows=max_rows).T\n",
    "    data = data[list(ch_names.values())]\n",
    "    data = filter_data(data, 250, l_freq=2, h_freq=50)\n",
    "    return mne.io.RawArray(data, info)\n",
    "\n",
    "\n",
    "def create_epochs(raw_data, duration=1):\n",
    "    \"\"\"\n",
    "    Chops the RawArray onto Epochs given the time duration of every epoch\n",
    "    :param raw_data: mne.io.RawArray instance\n",
    "    :param duration: seconds for copping\n",
    "    :return: mne Epochs class\n",
    "    \"\"\"\n",
    "    events = mne.make_fixed_length_events(raw_data, duration=duration)\n",
    "    epochs = mne.Epochs(raw_data, events, preload=True)\n",
    "    return epochs\n",
    "\n",
    "\n",
    "def get_files(dir='.', pattern='*.txt'):\n",
    "    \"\"\"\n",
    "    Loading files from given directory with specified pattern.\n",
    "    :param dir: Lookup directory\n",
    "    :param pattern: Pattern for files. Default *.txt for loading raw BCI files\n",
    "    :return: array of file paths\n",
    "    \"\"\"\n",
    "    # Specifying files directory, select all the files from there which is txt\n",
    "    datadir = Path(dir).glob(pattern)\n",
    "    # Transferring generator into array of file paths\n",
    "    return [x for x in datadir]"
   ]
  },
  {
   "cell_type": "code",
   "execution_count": 45,
   "metadata": {},
   "outputs": [],
   "source": [
    "def get_sample_data(path, regx):\n",
    "    files = get_files(path, regx)\n",
    "    ch_names = {\"fp2\":1, \"fp1\":2, \"f4\":3, \"f3\":4, \"c4\":5, \"c3\":6, \"o2\":7, \"o1\":8}\n",
    "    raw_data = []\n",
    "    for file in files:\n",
    "        raw_data.append(load_openbci_file(file, ch_names=ch_names, skiprows=10000, max_rows=50000))\n",
    "    real_data_series = [create_epochs(raw) for raw in raw_data]\n",
    "    return real_data_series[-1]\n",
    "    "
   ]
  },
  {
   "cell_type": "markdown",
   "metadata": {},
   "source": [
    "Defining Constants "
   ]
  },
  {
   "cell_type": "code",
   "execution_count": 46,
   "metadata": {},
   "outputs": [],
   "source": [
    " # TAKE ONE RANDOM RECORDING FOR PLOTTING\n",
    "n_channels = 8\n",
    "SAMPLE_FREQ = 250"
   ]
  },
  {
   "cell_type": "markdown",
   "metadata": {},
   "source": [
    "Next applying ICA and print the filters.\n",
    "\n",
    "Note: Filter ID may not be the same as channel ID.\n"
   ]
  },
  {
   "cell_type": "code",
   "execution_count": 47,
   "metadata": {},
   "outputs": [],
   "source": [
    "def transform_ICA(sample_data):\n",
    "    ica = ICA()\n",
    "    ica.fit(sample_data)\n",
    "    return ica.apply(sample_data) # Transform recording into ICA space"
   ]
  },
  {
   "cell_type": "markdown",
   "metadata": {},
   "source": [
    "# Convert data into vector\n",
    "Try different approaches. Next is an attempt to see overall recording waves.\n",
    "Free to change everything next."
   ]
  },
  {
   "cell_type": "code",
   "execution_count": 48,
   "metadata": {},
   "outputs": [],
   "source": [
    "def remove_epochs(data_epochs):\n",
    "    dat = data_epochs.get_data()\n",
    "    data = np.zeros( (dat.shape[0] * dat.shape[2], 8) )\n",
    "    n_epoch = len(dat)\n",
    "    n_in_epoch = dat.shape[2]\n",
    "    for i in range(n_epoch):\n",
    "        data[i*n_in_epoch:i*n_in_epoch + n_in_epoch] = dat[i].T\n",
    "    \n",
    "    return data"
   ]
  },
  {
   "cell_type": "code",
   "execution_count": 49,
   "metadata": {},
   "outputs": [],
   "source": [
    "def build_table(data):\n",
    "    # Get real amplitudes of FFT (only in postive frequencies)\n",
    "    fft_vals = np.absolute(np.fft.rfft(data))\n",
    "\n",
    "    # Get frequencies for amplitudes in Hz\n",
    "    fft_freq = np.fft.rfftfreq(len(data), 1.0/SAMPLE_FREQ)\n",
    "\n",
    "    # Define EEG bands\n",
    "    eeg_bands = {'Delta': (0, 4),\n",
    "                 'Theta': (4, 8),\n",
    "                 'Alpha': (8, 12),\n",
    "                 'Beta': (12, 30),\n",
    "                 'Gamma': (30, 45)}\n",
    "\n",
    "    # Take the mean of the fft amplitude for each EEG band\n",
    "    eeg_band_fft = dict()\n",
    "    for band in eeg_bands:  \n",
    "        freq_ix = np.where((fft_freq >= eeg_bands[band][0]) & \n",
    "                           (fft_freq <= eeg_bands[band][1]))[0]\n",
    "        eeg_band_fft[band] = np.mean(fft_vals[freq_ix])\n",
    "\n",
    "    # Plot the data (using pandas here cause it's easy)\n",
    "\n",
    "    df = pd.DataFrame(columns=['band', 'val'])\n",
    "    df['band'] = eeg_bands.keys()\n",
    "    df['val'] = [eeg_band_fft[band] for band in eeg_bands]\n",
    "    ax = df.plot.bar(x='band', y='val', legend=False)\n",
    "    ax.set_xlabel(\"EEG band\")\n",
    "    ax.set_ylabel(\"Mean band Amplitude\")\n",
    "    return df"
   ]
  },
  {
   "cell_type": "code",
   "execution_count": 50,
   "metadata": {
    "scrolled": true
   },
   "outputs": [
    {
     "name": "stdout",
     "output_type": "stream",
     "text": [
      "Setting up band-pass filter from 2 - 50 Hz\n",
      "l_trans_bandwidth chosen to be 2.0 Hz\n",
      "h_trans_bandwidth chosen to be 12.5 Hz\n",
      "Filter length of 413 samples (1.652 sec) selected\n",
      "Creating RawArray with float64 data, n_channels=8, n_times=50000\n",
      "    Range : 0 ... 49999 =      0.000 ...   199.996 secs\n",
      "Ready.\n",
      "200 matching events found\n",
      "Applying baseline correction (mode: mean)\n",
      "Not setting metadata\n",
      "0 projection items activated\n",
      "Loading data for 200 events and 176 original time points ...\n",
      "1 bad epochs dropped\n",
      "Fitting ICA to data using 8 channels (please be patient, this may take a while)\n",
      "Inferring max_pca_components from picks\n",
      "Using all PCA components: 8\n",
      "Fitting ICA took 0.4s.\n",
      "Transforming to ICA space (8 components)\n",
      "Zeroing out 0 ICA components\n"
     ]
    }
   ],
   "source": [
    "sample_data = get_sample_data('../application.linux64/SavedData/', '*Subject5_Session1*.txt')\n",
    "sample_data = transform_ICA(sample_data)\n",
    "# table_of_coding = build_table(remove_epochs(sample_data))"
   ]
  },
  {
   "cell_type": "code",
   "execution_count": 51,
   "metadata": {},
   "outputs": [],
   "source": [
    "# table_of_coding.iloc[2, 1] / table_of_coding.iloc[4, 1]"
   ]
  },
  {
   "cell_type": "code",
   "execution_count": 52,
   "metadata": {},
   "outputs": [],
   "source": [
    "# table_of_coding"
   ]
  },
  {
   "cell_type": "code",
   "execution_count": 53,
   "metadata": {},
   "outputs": [],
   "source": [
    "def vectorize(samle_data):\n",
    "    vector = []\n",
    "    # Define EEG bands\n",
    "    eeg_bands = {'Delta': (0, 4),\n",
    "                 'Theta': (4, 8),\n",
    "                 'Alpha': (8, 12),\n",
    "                 'Beta': (12, 30),\n",
    "                 'Gamma': (30, 45)}\n",
    "    \n",
    "    \n",
    "    for epoch in sample_data.get_data():\n",
    "    \n",
    "     # Get real amplitudes of FFT (only in postive frequencies)\n",
    "        fft_vals = np.absolute(np.fft.rfft(epoch.T))\n",
    "\n",
    "        # Get frequencies for amplitudes in Hz\n",
    "        fft_freq = np.fft.rfftfreq(len(epoch.T), 1.0/SAMPLE_FREQ)\n",
    "        eeg_band_fft = dict()\n",
    "    \n",
    "        for band in eeg_bands:\n",
    "            freq_ix = np.where((fft_freq >= eeg_bands[band][0]) & \n",
    "                               (fft_freq <= eeg_bands[band][1]))[0]\n",
    "            eeg_band_fft[band] = np.mean(fft_vals[freq_ix])\n",
    "    \n",
    "        vector.append(eeg_band_fft['Alpha'] / eeg_band_fft['Gamma'])\n",
    "    \n",
    "    return np.array(vector)"
   ]
  },
  {
   "cell_type": "code",
   "execution_count": 54,
   "metadata": {},
   "outputs": [],
   "source": [
    "from sklearn.preprocessing import normalize\n",
    "coding_vec = normalize(vectorize(sample_data)[:,np.newaxis], axis=0).ravel()"
   ]
  },
  {
   "cell_type": "code",
   "execution_count": 55,
   "metadata": {
    "scrolled": true
   },
   "outputs": [
    {
     "name": "stdout",
     "output_type": "stream",
     "text": [
      "Setting up band-pass filter from 2 - 50 Hz\n",
      "l_trans_bandwidth chosen to be 2.0 Hz\n",
      "h_trans_bandwidth chosen to be 12.5 Hz\n",
      "Filter length of 413 samples (1.652 sec) selected\n",
      "Creating RawArray with float64 data, n_channels=8, n_times=50000\n",
      "    Range : 0 ... 49999 =      0.000 ...   199.996 secs\n",
      "Ready.\n",
      "Setting up band-pass filter from 2 - 50 Hz\n",
      "l_trans_bandwidth chosen to be 2.0 Hz\n",
      "h_trans_bandwidth chosen to be 12.5 Hz\n",
      "Filter length of 413 samples (1.652 sec) selected\n",
      "Creating RawArray with float64 data, n_channels=8, n_times=50000\n",
      "    Range : 0 ... 49999 =      0.000 ...   199.996 secs\n",
      "Ready.\n",
      "Setting up band-pass filter from 2 - 50 Hz\n",
      "l_trans_bandwidth chosen to be 2.0 Hz\n",
      "h_trans_bandwidth chosen to be 12.5 Hz\n",
      "Filter length of 413 samples (1.652 sec) selected\n",
      "Creating RawArray with float64 data, n_channels=8, n_times=50000\n",
      "    Range : 0 ... 49999 =      0.000 ...   199.996 secs\n",
      "Ready.\n",
      "Setting up band-pass filter from 2 - 50 Hz\n",
      "l_trans_bandwidth chosen to be 2.0 Hz\n",
      "h_trans_bandwidth chosen to be 12.5 Hz\n",
      "Filter length of 413 samples (1.652 sec) selected\n",
      "Creating RawArray with float64 data, n_channels=8, n_times=50000\n",
      "    Range : 0 ... 49999 =      0.000 ...   199.996 secs\n",
      "Ready.\n",
      "200 matching events found\n",
      "Applying baseline correction (mode: mean)\n",
      "Not setting metadata\n",
      "0 projection items activated\n",
      "Loading data for 200 events and 176 original time points ...\n",
      "1 bad epochs dropped\n",
      "200 matching events found\n",
      "Applying baseline correction (mode: mean)\n",
      "Not setting metadata\n",
      "0 projection items activated\n",
      "Loading data for 200 events and 176 original time points ...\n",
      "1 bad epochs dropped\n",
      "200 matching events found\n",
      "Applying baseline correction (mode: mean)\n",
      "Not setting metadata\n",
      "0 projection items activated\n",
      "Loading data for 200 events and 176 original time points ...\n",
      "1 bad epochs dropped\n",
      "200 matching events found\n",
      "Applying baseline correction (mode: mean)\n",
      "Not setting metadata\n",
      "0 projection items activated\n",
      "Loading data for 200 events and 176 original time points ...\n",
      "1 bad epochs dropped\n",
      "Fitting ICA to data using 8 channels (please be patient, this may take a while)\n",
      "Inferring max_pca_components from picks\n",
      "Using all PCA components: 8\n",
      "Fitting ICA took 0.5s.\n",
      "Transforming to ICA space (8 components)\n",
      "Zeroing out 0 ICA components\n"
     ]
    }
   ],
   "source": [
    "sample_data = get_sample_data('../application.linux64/SavedData/', '*Meditation*.txt')\n",
    "sample_data = transform_ICA(sample_data)\n",
    "\n",
    "# table_of_meditation = build_table(remove_epochs(sample_data))"
   ]
  },
  {
   "cell_type": "code",
   "execution_count": 65,
   "metadata": {},
   "outputs": [
    {
     "data": {
      "text/plain": [
       "0.19001813122105776"
      ]
     },
     "execution_count": 65,
     "metadata": {},
     "output_type": "execute_result"
    }
   ],
   "source": [
    "from scipy import spatial \n",
    "meditation_vec = normalize(vectorize(sample_data)[:,np.newaxis], axis=0).ravel()\n",
    "\n",
    "spatial.distance.euclidean(coding_vec, meditation_vec)"
   ]
  },
  {
   "cell_type": "code",
   "execution_count": 57,
   "metadata": {},
   "outputs": [],
   "source": [
    "# table_of_meditation.iloc[2, 1] / table_of_meditation.iloc[4, 1]"
   ]
  },
  {
   "cell_type": "code",
   "execution_count": 58,
   "metadata": {},
   "outputs": [],
   "source": [
    "# table_of_meditation"
   ]
  },
  {
   "cell_type": "code",
   "execution_count": 59,
   "metadata": {},
   "outputs": [
    {
     "name": "stdout",
     "output_type": "stream",
     "text": [
      "Setting up band-pass filter from 2 - 50 Hz\n",
      "l_trans_bandwidth chosen to be 2.0 Hz\n",
      "h_trans_bandwidth chosen to be 12.5 Hz\n",
      "Filter length of 413 samples (1.652 sec) selected\n",
      "Creating RawArray with float64 data, n_channels=8, n_times=50000\n",
      "    Range : 0 ... 49999 =      0.000 ...   199.996 secs\n",
      "Ready.\n",
      "Setting up band-pass filter from 2 - 50 Hz\n",
      "l_trans_bandwidth chosen to be 2.0 Hz\n",
      "h_trans_bandwidth chosen to be 12.5 Hz\n",
      "Filter length of 413 samples (1.652 sec) selected\n",
      "Creating RawArray with float64 data, n_channels=8, n_times=50000\n",
      "    Range : 0 ... 49999 =      0.000 ...   199.996 secs\n",
      "Ready.\n",
      "Setting up band-pass filter from 2 - 50 Hz\n",
      "l_trans_bandwidth chosen to be 2.0 Hz\n",
      "h_trans_bandwidth chosen to be 12.5 Hz\n",
      "Filter length of 413 samples (1.652 sec) selected\n",
      "Creating RawArray with float64 data, n_channels=8, n_times=50000\n",
      "    Range : 0 ... 49999 =      0.000 ...   199.996 secs\n",
      "Ready.\n",
      "Setting up band-pass filter from 2 - 50 Hz\n",
      "l_trans_bandwidth chosen to be 2.0 Hz\n",
      "h_trans_bandwidth chosen to be 12.5 Hz\n",
      "Filter length of 413 samples (1.652 sec) selected\n",
      "Creating RawArray with float64 data, n_channels=8, n_times=50000\n",
      "    Range : 0 ... 49999 =      0.000 ...   199.996 secs\n",
      "Ready.\n",
      "200 matching events found\n",
      "Applying baseline correction (mode: mean)\n",
      "Not setting metadata\n",
      "0 projection items activated\n",
      "Loading data for 200 events and 176 original time points ...\n",
      "1 bad epochs dropped\n",
      "200 matching events found\n",
      "Applying baseline correction (mode: mean)\n",
      "Not setting metadata\n",
      "0 projection items activated\n",
      "Loading data for 200 events and 176 original time points ...\n",
      "1 bad epochs dropped\n",
      "200 matching events found\n",
      "Applying baseline correction (mode: mean)\n",
      "Not setting metadata\n",
      "0 projection items activated\n",
      "Loading data for 200 events and 176 original time points ...\n",
      "1 bad epochs dropped\n",
      "200 matching events found\n",
      "Applying baseline correction (mode: mean)\n",
      "Not setting metadata\n",
      "0 projection items activated\n",
      "Loading data for 200 events and 176 original time points ...\n",
      "1 bad epochs dropped\n",
      "Fitting ICA to data using 8 channels (please be patient, this may take a while)\n",
      "Inferring max_pca_components from picks\n",
      "Using all PCA components: 8\n",
      "Fitting ICA took 0.4s.\n",
      "Transforming to ICA space (8 components)\n",
      "Zeroing out 0 ICA components\n"
     ]
    }
   ],
   "source": [
    "sample_data = get_sample_data('../application.linux64/SavedData/', '*Session2_Coding*.txt')\n",
    "sample_data = transform_ICA(sample_data)\n",
    "# table_of_codemeditation = build_table(remove_epochs(sample_data))"
   ]
  },
  {
   "cell_type": "code",
   "execution_count": 60,
   "metadata": {},
   "outputs": [],
   "source": [
    "# table_of_codemeditation.iloc[2, 1] / table_of_codemeditation.iloc[4, 1]"
   ]
  },
  {
   "cell_type": "code",
   "execution_count": 61,
   "metadata": {},
   "outputs": [],
   "source": [
    "# table_of_codemeditation"
   ]
  }
 ],
 "metadata": {
  "kernelspec": {
   "display_name": "Python 3",
   "language": "python",
   "name": "python3"
  },
  "language_info": {
   "codemirror_mode": {
    "name": "ipython",
    "version": 3
   },
   "file_extension": ".py",
   "mimetype": "text/x-python",
   "name": "python",
   "nbconvert_exporter": "python",
   "pygments_lexer": "ipython3",
   "version": "3.7.2"
  }
 },
 "nbformat": 4,
 "nbformat_minor": 2
}
